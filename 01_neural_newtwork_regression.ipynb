{
  "nbformat": 4,
  "nbformat_minor": 0,
  "metadata": {
    "colab": {
      "provenance": [],
      "authorship_tag": "ABX9TyMKoafcw0lMCXWuL9fT5cTt",
      "include_colab_link": true
    },
    "kernelspec": {
      "name": "python3",
      "display_name": "Python 3"
    },
    "language_info": {
      "name": "python"
    }
  },
  "cells": [
    {
      "cell_type": "markdown",
      "metadata": {
        "id": "view-in-github",
        "colab_type": "text"
      },
      "source": [
        "<a href=\"https://colab.research.google.com/github/Ape12b/TensorFlow/blob/main/01_neural_newtwork_regression.ipynb\" target=\"_parent\"><img src=\"https://colab.research.google.com/assets/colab-badge.svg\" alt=\"Open In Colab\"/></a>"
      ]
    },
    {
      "cell_type": "markdown",
      "source": [
        " # This notebook serves as an introduction to regression using Neural Networks in Tensorflow\n",
        "\n",
        " Regression in this example means predicting a numrical value (dependent variable) (imp) based on the combination of some other variables (independent variable) (features, attributes etc.)"
      ],
      "metadata": {
        "id": "UJp7FpeqsN6K"
      }
    },
    {
      "cell_type": "code",
      "source": [
        "# Import libraries\n",
        "import matplotlib.pyplot as plt\n",
        "import numpy as np\n",
        "import tensorflow as tf\n",
        "print(f\"TensorFlow version: {tf.__version__}\")"
      ],
      "metadata": {
        "colab": {
          "base_uri": "https://localhost:8080/"
        },
        "id": "qEKu1sZg8gvj",
        "outputId": "863db557-8c4a-46ba-90cf-72d48be57f17"
      },
      "execution_count": null,
      "outputs": [
        {
          "output_type": "stream",
          "name": "stdout",
          "text": [
            "TensorFlow version: 2.11.0\n"
          ]
        }
      ]
    },
    {
      "cell_type": "code",
      "source": [
        "# Create features\n",
        "X = np.array([i for i in range(-14, 14, 3)])\n",
        "\n",
        "# Create labels\n",
        "y = X + 10\n",
        "\n",
        "# Visualize the relationship\n",
        "plt.scatter(X, y)"
      ],
      "metadata": {
        "colab": {
          "base_uri": "https://localhost:8080/",
          "height": 282
        },
        "id": "KJMMWuec9UwL",
        "outputId": "865c235a-f152-4f72-ca4b-88f2d64ff44c"
      },
      "execution_count": null,
      "outputs": [
        {
          "output_type": "execute_result",
          "data": {
            "text/plain": [
              "<matplotlib.collections.PathCollection at 0x7fe98a99d310>"
            ]
          },
          "metadata": {},
          "execution_count": 72
        },
        {
          "output_type": "display_data",
          "data": {
            "text/plain": [
              "<Figure size 432x288 with 1 Axes>"
            ],
            "image/png": "[encoded data removed]"
          },
          "metadata": {
            "needs_background": "light"
          }
        }
      ]
    },
    {
      "cell_type": "markdown",
      "source": [
        "## Input and output shapes"
      ],
      "metadata": {
        "id": "nF7GWp7O-apq"
      }
    },
    {
      "cell_type": "code",
      "source": [
        "# Create a demo tensor for housing price prediction problem\n",
        "house_info = tf.constant([\"bedroom\", \"bathroom\", \"garage\"])\n",
        "house_price = tf.constant([939000])\n",
        "house_info, house_price"
      ],
      "metadata": {
        "colab": {
          "base_uri": "https://localhost:8080/"
        },
        "id": "UEbRdn6w-sfK",
        "outputId": "928964a2-e997-49fc-f8ee-d31575174a76"
      },
      "execution_count": null,
      "outputs": [
        {
          "output_type": "execute_result",
          "data": {
            "text/plain": [
              "(<tf.Tensor: shape=(3,), dtype=string, numpy=array([b'bedroom', b'bathroom', b'garage'], dtype=object)>,\n",
              " <tf.Tensor: shape=(1,), dtype=int32, numpy=array([939000], dtype=int32)>)"
            ]
          },
          "metadata": {},
          "execution_count": 73
        }
      ]
    },
    {
      "cell_type": "code",
      "source": [
        "# Turn numpy arrays into tensors\n",
        "X = tf.cast(tf.constant(X), dtype=tf.float32)\n",
        "y = tf.cast(tf.constant(y), dtype=tf.float32)\n",
        "X, y"
      ],
      "metadata": {
        "colab": {
          "base_uri": "https://localhost:8080/"
        },
        "id": "9TzTn1vY_P2q",
        "outputId": "0f27a35a-0b9d-4b09-afca-59339dd7be19"
      },
      "execution_count": null,
      "outputs": [
        {
          "output_type": "execute_result",
          "data": {
            "text/plain": [
              "(<tf.Tensor: shape=(10,), dtype=float32, numpy=\n",
              " array([-14., -11.,  -8.,  -5.,  -2.,   1.,   4.,   7.,  10.,  13.],\n",
              "       dtype=float32)>,\n",
              " <tf.Tensor: shape=(10,), dtype=float32, numpy=array([-4., -1.,  2.,  5.,  8., 11., 14., 17., 20., 23.], dtype=float32)>)"
            ]
          },
          "metadata": {},
          "execution_count": 74
        }
      ]
    },
    {
      "cell_type": "code",
      "source": [
        "input_shape = X[0].shape\n",
        "output_shape = y[0].shape\n",
        "input_shape, output_shape"
      ],
      "metadata": {
        "colab": {
          "base_uri": "https://localhost:8080/"
        },
        "id": "FEwLbYZSBRkH",
        "outputId": "bcc91c97-95a9-47ff-e2fa-f79ba4b5fdb6"
      },
      "execution_count": null,
      "outputs": [
        {
          "output_type": "execute_result",
          "data": {
            "text/plain": [
              "(TensorShape([]), TensorShape([]))"
            ]
          },
          "metadata": {},
          "execution_count": 75
        }
      ]
    },
    {
      "cell_type": "markdown",
      "source": [
        "## Steps in modelling with TensorFlow\n",
        "\n",
        "1. **Creating a model:**\n",
        "* Defining the input layer (num neurons = num features = 1)\n",
        "* Defining the hidden layers and their activation (num neurons = variable, activation =  ReLu [rectified linear unit])\n",
        "* Defining the output layer (num nuerons = num output = 1)\n",
        "(model.keras.Sequential)\n",
        "\n",
        "2. **Compiling the model:** \n",
        "* Specify the loss function: Minimum Absolute error (tells you how wrong the model is)\n",
        "* Specify the optimizer to be used: SGD (Stochastic Gradient Descent) or Adam (how we improve the model)\n",
        "* Specify the evaluation metrics: How do we interpret the performance of our model.\n",
        "(model.compile)\n",
        "\n",
        "3. **Fitting a model** - Letting a model find the relationship between features and outputs. (model.fit)"
      ],
      "metadata": {
        "id": "HSdLMOVpBdKm"
      }
    },
    {
      "cell_type": "code",
      "source": [
        "# Set a random seed\n",
        "tf.random.set_seed(42)\n",
        "\n",
        "# 1. Create a model using the Sequential API\n",
        "model = tf.keras.Sequential([\n",
        "    tf.keras.layers.Dense(1)\n",
        "])\n",
        "\n",
        "# 2. Compile the model\n",
        "model.compile(loss=tf.keras.losses.mae, # mean absolute error\n",
        "              optimizer=tf.keras.optimizers.SGD(), # Stochastic Gradient descent\n",
        "              metrics=[\"mae\"])\n",
        "\n",
        "# 3. Fit the model\n",
        "model.fit(tf.expand_dims(X, axis=-1), y, epochs = 5)\n"
      ],
      "metadata": {
        "colab": {
          "base_uri": "https://localhost:8080/"
        },
        "id": "D9NsXSoIDGQn",
        "outputId": "5c902368-61c2-472e-8873-7c9123ae6f3b"
      },
      "execution_count": null,
      "outputs": [
        {
          "output_type": "stream",
          "name": "stdout",
          "text": [
            "Epoch 1/5\n",
            "1/1 [==============================] - 0s 362ms/step - loss: 11.4126 - mae: 11.4126\n",
            "Epoch 2/5\n",
            "1/1 [==============================] - 0s 10ms/step - loss: 11.2065 - mae: 11.2065\n",
            "Epoch 3/5\n",
            "1/1 [==============================] - 0s 11ms/step - loss: 11.0004 - mae: 11.0004\n",
            "Epoch 4/5\n",
            "1/1 [==============================] - 0s 9ms/step - loss: 10.7943 - mae: 10.7943\n",
            "Epoch 5/5\n",
            "1/1 [==============================] - 0s 11ms/step - loss: 10.5882 - mae: 10.5882\n"
          ]
        },
        {
          "output_type": "execute_result",
          "data": {
            "text/plain": [
              "<keras.callbacks.History at 0x7fe98aac9910>"
            ]
          },
          "metadata": {},
          "execution_count": 76
        }
      ]
    },
    {
      "cell_type": "code",
      "source": [
        "# 4. Make Prediction\n",
        "plt.scatter(X,y)\n",
        "plt.scatter([32, 3, 7], model.predict([32, 3, 7]), color=\"red\")\n",
        "plt.show()"
      ],
      "metadata": {
        "colab": {
          "base_uri": "https://localhost:8080/",
          "height": 282
        },
        "id": "lq-k8VrSH-a8",
        "outputId": "c7d9347a-cec9-4b13-c2bc-c9254ecd336b"
      },
      "execution_count": null,
      "outputs": [
        {
          "output_type": "stream",
          "name": "stdout",
          "text": [
            "1/1 [==============================] - 0s 77ms/step\n"
          ]
        },
        {
          "output_type": "display_data",
          "data": {
            "text/plain": [
              "<Figure size 432x288 with 1 Axes>"
            ],
            "image/png": "[encoded data removed]"
          },
          "metadata": {
            "needs_background": "light"
          }
        }
      ]
    },
    {
      "cell_type": "markdown",
      "source": [
        "## Improving the model\n",
        "\n",
        "We can improve out model by altering the steps we took to create a model.\n",
        "\n",
        "1. **Creating a model** - We can add more layers, improve the number of neurons in the layers, change the activation of each layer.\n",
        "2. **Compiling a model** - Change the optimization function, or the learning rate of the optimization function.\n",
        "3. **Fitting a model** - increase the number of epoche or increase the amount of data. "
      ],
      "metadata": {
        "id": "1CtjVET4E8Z1"
      }
    },
    {
      "cell_type": "code",
      "source": [
        "# Let's rebuild the model, training it longer\n",
        "\n",
        "# 1. Create the model\n",
        "model = tf.keras.Sequential([\n",
        "    tf.keras.layers.Dense(1)\n",
        "])\n",
        "\n",
        "# 2. Compile the model\n",
        "model.compile(loss=tf.keras.losses.MAE,\n",
        "              optimizer=tf.keras.optimizers.SGD(),\n",
        "              metrics = [\"accuracy\"])\n",
        "\n",
        "# 3. Fit the model - We'll train it longer\n",
        "model.fit(tf.expand_dims(X, axis=-1), y, epochs = 100)"
      ],
      "metadata": {
        "colab": {
          "base_uri": "https://localhost:8080/"
        },
        "id": "4RP7IvdSQZUO",
        "outputId": "9920cce6-ddc3-4b8c-afb0-896988031d4f"
      },
      "execution_count": null,
      "outputs": [
        {
          "output_type": "stream",
          "name": "stdout",
          "text": [
            "Epoch 1/100\n",
            "1/1 [==============================] - 1s 695ms/step - loss: 20.3598 - accuracy: 0.0000e+00\n",
            "Epoch 2/100\n",
            "1/1 [==============================] - 0s 13ms/step - loss: 19.8553 - accuracy: 0.0000e+00\n",
            "Epoch 3/100\n",
            "1/1 [==============================] - 0s 10ms/step - loss: 19.3508 - accuracy: 0.0000e+00\n",
            "Epoch 4/100\n",
            "1/1 [==============================] - 0s 12ms/step - loss: 18.8463 - accuracy: 0.0000e+00\n",
            "Epoch 5/100\n",
            "1/1 [==============================] - 0s 11ms/step - loss: 18.3418 - accuracy: 0.0000e+00\n",
            "Epoch 6/100\n",
            "1/1 [==============================] - 0s 10ms/step - loss: 17.8373 - accuracy: 0.0000e+00\n",
            "Epoch 7/100\n",
            "1/1 [==============================] - 0s 11ms/step - loss: 17.3328 - accuracy: 0.0000e+00\n",
            "Epoch 8/100\n",
            "1/1 [==============================] - 0s 15ms/step - loss: 16.8283 - accuracy: 0.0000e+00\n",
            "Epoch 9/100\n",
            "1/1 [==============================] - 0s 10ms/step - loss: 16.3238 - accuracy: 0.0000e+00\n",
            "Epoch 10/100\n",
            "1/1 [==============================] - 0s 9ms/step - loss: 15.8688 - accuracy: 0.0000e+00\n",
            "Epoch 11/100\n",
            "1/1 [==============================] - 0s 9ms/step - loss: 15.4951 - accuracy: 0.0000e+00\n",
            "Epoch 12/100\n",
            "1/1 [==============================] - 0s 9ms/step - loss: 15.1214 - accuracy: 0.0000e+00\n",
            "Epoch 13/100\n",
            "1/1 [==============================] - 0s 10ms/step - loss: 14.7477 - accuracy: 0.0000e+00\n",
            "Epoch 14/100\n",
            "1/1 [==============================] - 0s 9ms/step - loss: 14.3740 - accuracy: 0.0000e+00\n",
            "Epoch 15/100\n",
            "1/1 [==============================] - 0s 10ms/step - loss: 14.0003 - accuracy: 0.0000e+00\n",
            "Epoch 16/100\n",
            "1/1 [==============================] - 0s 16ms/step - loss: 13.6266 - accuracy: 0.0000e+00\n",
            "Epoch 17/100\n",
            "1/1 [==============================] - 0s 13ms/step - loss: 13.2529 - accuracy: 0.0000e+00\n",
            "Epoch 18/100\n",
            "1/1 [==============================] - 0s 12ms/step - loss: 12.8792 - accuracy: 0.0000e+00\n",
            "Epoch 19/100\n",
            "1/1 [==============================] - 0s 8ms/step - loss: 12.5055 - accuracy: 0.0000e+00\n",
            "Epoch 20/100\n",
            "1/1 [==============================] - 0s 9ms/step - loss: 12.1318 - accuracy: 0.0000e+00\n",
            "Epoch 21/100\n",
            "1/1 [==============================] - 0s 10ms/step - loss: 11.7581 - accuracy: 0.0000e+00\n",
            "Epoch 22/100\n",
            "1/1 [==============================] - 0s 10ms/step - loss: 11.4274 - accuracy: 0.0000e+00\n",
            "Epoch 23/100\n",
            "1/1 [==============================] - 0s 10ms/step - loss: 11.2213 - accuracy: 0.0000e+00\n",
            "Epoch 24/100\n",
            "1/1 [==============================] - 0s 9ms/step - loss: 11.0152 - accuracy: 0.0000e+00\n",
            "Epoch 25/100\n",
            "1/1 [==============================] - 0s 11ms/step - loss: 10.8091 - accuracy: 0.0000e+00\n",
            "Epoch 26/100\n",
            "1/1 [==============================] - 0s 9ms/step - loss: 10.6030 - accuracy: 0.0000e+00\n",
            "Epoch 27/100\n",
            "1/1 [==============================] - 0s 8ms/step - loss: 10.3969 - accuracy: 0.0000e+00\n",
            "Epoch 28/100\n",
            "1/1 [==============================] - 0s 10ms/step - loss: 10.1908 - accuracy: 0.0000e+00\n",
            "Epoch 29/100\n",
            "1/1 [==============================] - 0s 10ms/step - loss: 9.9847 - accuracy: 0.0000e+00\n",
            "Epoch 30/100\n",
            "1/1 [==============================] - 0s 10ms/step - loss: 9.8750 - accuracy: 0.0000e+00\n",
            "Epoch 31/100\n",
            "1/1 [==============================] - 0s 11ms/step - loss: 9.8157 - accuracy: 0.0000e+00\n",
            "Epoch 32/100\n",
            "1/1 [==============================] - 0s 9ms/step - loss: 9.7564 - accuracy: 0.0000e+00\n",
            "Epoch 33/100\n",
            "1/1 [==============================] - 0s 11ms/step - loss: 9.6971 - accuracy: 0.0000e+00\n",
            "Epoch 34/100\n",
            "1/1 [==============================] - 0s 11ms/step - loss: 9.6378 - accuracy: 0.0000e+00\n",
            "Epoch 35/100\n",
            "1/1 [==============================] - 0s 10ms/step - loss: 9.5785 - accuracy: 0.0000e+00\n",
            "Epoch 36/100\n",
            "1/1 [==============================] - 0s 10ms/step - loss: 9.5192 - accuracy: 0.0000e+00\n",
            "Epoch 37/100\n",
            "1/1 [==============================] - 0s 13ms/step - loss: 9.4831 - accuracy: 0.0000e+00\n",
            "Epoch 38/100\n",
            "1/1 [==============================] - 0s 11ms/step - loss: 9.4706 - accuracy: 0.0000e+00\n",
            "Epoch 39/100\n",
            "1/1 [==============================] - 0s 12ms/step - loss: 9.4669 - accuracy: 0.0000e+00\n",
            "Epoch 40/100\n",
            "1/1 [==============================] - 0s 10ms/step - loss: 9.4616 - accuracy: 0.0000e+00\n",
            "Epoch 41/100\n",
            "1/1 [==============================] - 0s 17ms/step - loss: 9.4491 - accuracy: 0.0000e+00\n",
            "Epoch 42/100\n",
            "1/1 [==============================] - 0s 13ms/step - loss: 9.4366 - accuracy: 0.0000e+00\n",
            "Epoch 43/100\n",
            "1/1 [==============================] - 0s 10ms/step - loss: 9.4241 - accuracy: 0.0000e+00\n",
            "Epoch 44/100\n",
            "1/1 [==============================] - 0s 14ms/step - loss: 9.4216 - accuracy: 0.0000e+00\n",
            "Epoch 45/100\n",
            "1/1 [==============================] - 0s 12ms/step - loss: 9.4151 - accuracy: 0.0000e+00\n",
            "Epoch 46/100\n",
            "1/1 [==============================] - 0s 10ms/step - loss: 9.4026 - accuracy: 0.0000e+00\n",
            "Epoch 47/100\n",
            "1/1 [==============================] - 0s 12ms/step - loss: 9.3901 - accuracy: 0.0000e+00\n",
            "Epoch 48/100\n",
            "1/1 [==============================] - 0s 9ms/step - loss: 9.3776 - accuracy: 0.0000e+00\n",
            "Epoch 49/100\n",
            "1/1 [==============================] - 0s 9ms/step - loss: 9.3763 - accuracy: 0.0000e+00\n",
            "Epoch 50/100\n",
            "1/1 [==============================] - 0s 9ms/step - loss: 9.3686 - accuracy: 0.0000e+00\n",
            "Epoch 51/100\n",
            "1/1 [==============================] - 0s 9ms/step - loss: 9.3561 - accuracy: 0.0000e+00\n",
            "Epoch 52/100\n",
            "1/1 [==============================] - 0s 9ms/step - loss: 9.3436 - accuracy: 0.0000e+00\n",
            "Epoch 53/100\n",
            "1/1 [==============================] - 0s 8ms/step - loss: 9.3311 - accuracy: 0.0000e+00\n",
            "Epoch 54/100\n",
            "1/1 [==============================] - 0s 8ms/step - loss: 9.3310 - accuracy: 0.0000e+00\n",
            "Epoch 55/100\n",
            "1/1 [==============================] - 0s 9ms/step - loss: 9.3221 - accuracy: 0.0000e+00\n",
            "Epoch 56/100\n",
            "1/1 [==============================] - 0s 17ms/step - loss: 9.3096 - accuracy: 0.0000e+00\n",
            "Epoch 57/100\n",
            "1/1 [==============================] - 0s 10ms/step - loss: 9.2971 - accuracy: 0.0000e+00\n",
            "Epoch 58/100\n",
            "1/1 [==============================] - 0s 11ms/step - loss: 9.2846 - accuracy: 0.0000e+00\n",
            "Epoch 59/100\n",
            "1/1 [==============================] - 0s 10ms/step - loss: 9.2857 - accuracy: 0.0000e+00\n",
            "Epoch 60/100\n",
            "1/1 [==============================] - 0s 11ms/step - loss: 9.2756 - accuracy: 0.0000e+00\n",
            "Epoch 61/100\n",
            "1/1 [==============================] - 0s 11ms/step - loss: 9.2631 - accuracy: 0.0000e+00\n",
            "Epoch 62/100\n",
            "1/1 [==============================] - 0s 10ms/step - loss: 9.2506 - accuracy: 0.0000e+00\n",
            "Epoch 63/100\n",
            "1/1 [==============================] - 0s 11ms/step - loss: 9.2381 - accuracy: 0.0000e+00\n",
            "Epoch 64/100\n",
            "1/1 [==============================] - 0s 10ms/step - loss: 9.2404 - accuracy: 0.0000e+00\n",
            "Epoch 65/100\n",
            "1/1 [==============================] - 0s 8ms/step - loss: 9.2291 - accuracy: 0.0000e+00\n",
            "Epoch 66/100\n",
            "1/1 [==============================] - 0s 10ms/step - loss: 9.2166 - accuracy: 0.0000e+00\n",
            "Epoch 67/100\n",
            "1/1 [==============================] - 0s 11ms/step - loss: 9.2041 - accuracy: 0.0000e+00\n",
            "Epoch 68/100\n",
            "1/1 [==============================] - 0s 14ms/step - loss: 9.1916 - accuracy: 0.0000e+00\n",
            "Epoch 69/100\n",
            "1/1 [==============================] - 0s 12ms/step - loss: 9.1951 - accuracy: 0.0000e+00\n",
            "Epoch 70/100\n",
            "1/1 [==============================] - 0s 9ms/step - loss: 9.1826 - accuracy: 0.0000e+00\n",
            "Epoch 71/100\n",
            "1/1 [==============================] - 0s 9ms/step - loss: 9.1701 - accuracy: 0.0000e+00\n",
            "Epoch 72/100\n",
            "1/1 [==============================] - 0s 10ms/step - loss: 9.1576 - accuracy: 0.0000e+00\n",
            "Epoch 73/100\n",
            "1/1 [==============================] - 0s 10ms/step - loss: 9.1463 - accuracy: 0.0000e+00\n",
            "Epoch 74/100\n",
            "1/1 [==============================] - 0s 10ms/step - loss: 9.1486 - accuracy: 0.0000e+00\n",
            "Epoch 75/100\n",
            "1/1 [==============================] - 0s 11ms/step - loss: 9.1361 - accuracy: 0.0000e+00\n",
            "Epoch 76/100\n",
            "1/1 [==============================] - 0s 8ms/step - loss: 9.1236 - accuracy: 0.0000e+00\n",
            "Epoch 77/100\n",
            "1/1 [==============================] - 0s 10ms/step - loss: 9.1111 - accuracy: 0.0000e+00\n",
            "Epoch 78/100\n",
            "1/1 [==============================] - 0s 11ms/step - loss: 9.1010 - accuracy: 0.0000e+00\n",
            "Epoch 79/100\n",
            "1/1 [==============================] - 0s 10ms/step - loss: 9.1021 - accuracy: 0.0000e+00\n",
            "Epoch 80/100\n",
            "1/1 [==============================] - 0s 12ms/step - loss: 9.0896 - accuracy: 0.0000e+00\n",
            "Epoch 81/100\n",
            "1/1 [==============================] - 0s 9ms/step - loss: 9.0771 - accuracy: 0.0000e+00\n",
            "Epoch 82/100\n",
            "1/1 [==============================] - 0s 8ms/step - loss: 9.0646 - accuracy: 0.0000e+00\n",
            "Epoch 83/100\n",
            "1/1 [==============================] - 0s 11ms/step - loss: 9.0557 - accuracy: 0.0000e+00\n",
            "Epoch 84/100\n",
            "1/1 [==============================] - 0s 10ms/step - loss: 9.0556 - accuracy: 0.0000e+00\n",
            "Epoch 85/100\n",
            "1/1 [==============================] - 0s 10ms/step - loss: 9.0431 - accuracy: 0.0000e+00\n",
            "Epoch 86/100\n",
            "1/1 [==============================] - 0s 10ms/step - loss: 9.0306 - accuracy: 0.0000e+00\n",
            "Epoch 87/100\n",
            "1/1 [==============================] - 0s 10ms/step - loss: 9.0181 - accuracy: 0.0000e+00\n",
            "Epoch 88/100\n",
            "1/1 [==============================] - 0s 11ms/step - loss: 9.0104 - accuracy: 0.0000e+00\n",
            "Epoch 89/100\n",
            "1/1 [==============================] - 0s 10ms/step - loss: 9.0091 - accuracy: 0.0000e+00\n",
            "Epoch 90/100\n",
            "1/1 [==============================] - 0s 8ms/step - loss: 8.9966 - accuracy: 0.0000e+00\n",
            "Epoch 91/100\n",
            "1/1 [==============================] - 0s 8ms/step - loss: 8.9841 - accuracy: 0.0000e+00\n",
            "Epoch 92/100\n",
            "1/1 [==============================] - 0s 11ms/step - loss: 8.9716 - accuracy: 0.0000e+00\n",
            "Epoch 93/100\n",
            "1/1 [==============================] - 0s 8ms/step - loss: 8.9651 - accuracy: 0.0000e+00\n",
            "Epoch 94/100\n",
            "1/1 [==============================] - 0s 11ms/step - loss: 8.9626 - accuracy: 0.0000e+00\n",
            "Epoch 95/100\n",
            "1/1 [==============================] - 0s 11ms/step - loss: 8.9501 - accuracy: 0.0000e+00\n",
            "Epoch 96/100\n",
            "1/1 [==============================] - 0s 10ms/step - loss: 8.9376 - accuracy: 0.0000e+00\n",
            "Epoch 97/100\n",
            "1/1 [==============================] - 0s 11ms/step - loss: 8.9251 - accuracy: 0.0000e+00\n",
            "Epoch 98/100\n",
            "1/1 [==============================] - 0s 9ms/step - loss: 8.9198 - accuracy: 0.0000e+00\n",
            "Epoch 99/100\n",
            "1/1 [==============================] - 0s 11ms/step - loss: 8.9161 - accuracy: 0.0000e+00\n",
            "Epoch 100/100\n",
            "1/1 [==============================] - 0s 10ms/step - loss: 8.9036 - accuracy: 0.0000e+00\n"
          ]
        },
        {
          "output_type": "execute_result",
          "data": {
            "text/plain": [
              "[8.8910551071167, 0.0]"
            ]
          },
          "metadata": {},
          "execution_count": 91
        }
      ]
    },
    {
      "cell_type": "code",
      "source": [
        "plt.scatter(tf.expand_dims(X, axis=-1), tf.expand_dims(y, axis=-1))\n",
        "plt.scatter(X, model.predict(X))"
      ],
      "metadata": {
        "colab": {
          "base_uri": "https://localhost:8080/",
          "height": 300
        },
        "id": "kIfSHv8UQiI4",
        "outputId": "e7db386b-6ba7-480c-ed64-f5864270b698"
      },
      "execution_count": null,
      "outputs": [
        {
          "output_type": "stream",
          "name": "stdout",
          "text": [
            "1/1 [==============================] - 0s 50ms/step\n"
          ]
        },
        {
          "output_type": "execute_result",
          "data": {
            "text/plain": [
              "<matplotlib.collections.PathCollection at 0x7fe990bd0d60>"
            ]
          },
          "metadata": {},
          "execution_count": 81
        },
        {
          "output_type": "display_data",
          "data": {
            "text/plain": [
              "<Figure size 432x288 with 1 Axes>"
            ],
            "image/png": "[encoded data removed]"
          },
          "metadata": {
            "needs_background": "light"
          }
        }
      ]
    },
    {
      "cell_type": "code",
      "source": [
        "print(X - y)\n",
        "model.predict([4])"
      ],
      "metadata": {
        "colab": {
          "base_uri": "https://localhost:8080/"
        },
        "id": "4vhzF8cFQlHW",
        "outputId": "87155295-26db-472e-8f44-0962167b2f46"
      },
      "execution_count": null,
      "outputs": [
        {
          "output_type": "stream",
          "name": "stdout",
          "text": [
            "tf.Tensor([-10. -10. -10. -10. -10. -10. -10. -10. -10. -10.], shape=(10,), dtype=float32)\n",
            "1/1 [==============================] - 0s 68ms/step\n"
          ]
        },
        {
          "output_type": "execute_result",
          "data": {
            "text/plain": [
              "array([[2.369627]], dtype=float32)"
            ]
          },
          "metadata": {},
          "execution_count": 84
        }
      ]
    },
    {
      "cell_type": "code",
      "source": [
        "# Improve model creation\n",
        "model = tf.keras.Sequential()\n",
        "model.add(tf.keras.layers.Dense(100, activation= \"relu\"))\n",
        "model.add(tf.keras.layers.Dense(1))\n",
        "\n",
        "# Compile the model\n",
        "model.compile(loss=tf.keras.losses.mse,\n",
        "              optimizer = tf.keras.optimizers.Adam(learning_rate = 0.01),\n",
        "              metrics=[\"mse\"])\n",
        "\n",
        "# Fit the model\n",
        "model.fit(tf.expand_dims(X, axis = -1),y, epochs = 100)\n"
      ],
      "metadata": {
        "colab": {
          "base_uri": "https://localhost:8080/"
        },
        "id": "zcsEIDMFMxuc",
        "outputId": "c5d6c96e-bebf-4bb9-92b2-102db27734a8"
      },
      "execution_count": null,
      "outputs": [
        {
          "output_type": "stream",
          "name": "stdout",
          "text": [
            "Epoch 1/100\n",
            "1/1 [==============================] - 2s 2s/step - loss: 157.9087 - mse: 157.9087\n",
            "Epoch 2/100\n",
            "1/1 [==============================] - 0s 24ms/step - loss: 140.6608 - mse: 140.6608\n",
            "Epoch 3/100\n",
            "1/1 [==============================] - 0s 14ms/step - loss: 126.1255 - mse: 126.1255\n",
            "Epoch 4/100\n",
            "1/1 [==============================] - 0s 21ms/step - loss: 112.7087 - mse: 112.7087\n",
            "Epoch 5/100\n",
            "1/1 [==============================] - 0s 28ms/step - loss: 99.9310 - mse: 99.9310\n",
            "Epoch 6/100\n",
            "1/1 [==============================] - 0s 19ms/step - loss: 87.8156 - mse: 87.8156\n",
            "Epoch 7/100\n",
            "1/1 [==============================] - 0s 19ms/step - loss: 76.5532 - mse: 76.5532\n",
            "Epoch 8/100\n",
            "1/1 [==============================] - 0s 23ms/step - loss: 66.3054 - mse: 66.3054\n",
            "Epoch 9/100\n",
            "1/1 [==============================] - 0s 22ms/step - loss: 56.8312 - mse: 56.8312\n",
            "Epoch 10/100\n",
            "1/1 [==============================] - 0s 18ms/step - loss: 48.1660 - mse: 48.1660\n",
            "Epoch 11/100\n",
            "1/1 [==============================] - 0s 9ms/step - loss: 40.3654 - mse: 40.3654\n",
            "Epoch 12/100\n",
            "1/1 [==============================] - 0s 24ms/step - loss: 33.5418 - mse: 33.5418\n",
            "Epoch 13/100\n",
            "1/1 [==============================] - 0s 21ms/step - loss: 27.8500 - mse: 27.8500\n",
            "Epoch 14/100\n",
            "1/1 [==============================] - 0s 10ms/step - loss: 23.4476 - mse: 23.4476\n",
            "Epoch 15/100\n",
            "1/1 [==============================] - 0s 11ms/step - loss: 20.3904 - mse: 20.3904\n",
            "Epoch 16/100\n",
            "1/1 [==============================] - 0s 8ms/step - loss: 18.6968 - mse: 18.6968\n",
            "Epoch 17/100\n",
            "1/1 [==============================] - 0s 11ms/step - loss: 18.2902 - mse: 18.2902\n",
            "Epoch 18/100\n",
            "1/1 [==============================] - 0s 9ms/step - loss: 18.9509 - mse: 18.9509\n",
            "Epoch 19/100\n",
            "1/1 [==============================] - 0s 11ms/step - loss: 20.2696 - mse: 20.2696\n",
            "Epoch 20/100\n",
            "1/1 [==============================] - 0s 9ms/step - loss: 21.7704 - mse: 21.7704\n",
            "Epoch 21/100\n",
            "1/1 [==============================] - 0s 9ms/step - loss: 22.9901 - mse: 22.9901\n",
            "Epoch 22/100\n",
            "1/1 [==============================] - 0s 9ms/step - loss: 23.6221 - mse: 23.6221\n",
            "Epoch 23/100\n",
            "1/1 [==============================] - 0s 9ms/step - loss: 23.5412 - mse: 23.5412\n",
            "Epoch 24/100\n",
            "1/1 [==============================] - 0s 8ms/step - loss: 22.8548 - mse: 22.8548\n",
            "Epoch 25/100\n",
            "1/1 [==============================] - 0s 10ms/step - loss: 21.7136 - mse: 21.7136\n",
            "Epoch 26/100\n",
            "1/1 [==============================] - 0s 9ms/step - loss: 20.3086 - mse: 20.3086\n",
            "Epoch 27/100\n",
            "1/1 [==============================] - 0s 10ms/step - loss: 18.7095 - mse: 18.7095\n",
            "Epoch 28/100\n",
            "1/1 [==============================] - 0s 10ms/step - loss: 17.0809 - mse: 17.0809\n",
            "Epoch 29/100\n",
            "1/1 [==============================] - 0s 12ms/step - loss: 15.5373 - mse: 15.5373\n",
            "Epoch 30/100\n",
            "1/1 [==============================] - 0s 11ms/step - loss: 14.1281 - mse: 14.1281\n",
            "Epoch 31/100\n",
            "1/1 [==============================] - 0s 12ms/step - loss: 12.9197 - mse: 12.9197\n",
            "Epoch 32/100\n",
            "1/1 [==============================] - 0s 11ms/step - loss: 11.9189 - mse: 11.9189\n",
            "Epoch 33/100\n",
            "1/1 [==============================] - 0s 11ms/step - loss: 11.0894 - mse: 11.0894\n",
            "Epoch 34/100\n",
            "1/1 [==============================] - 0s 12ms/step - loss: 10.4366 - mse: 10.4366\n",
            "Epoch 35/100\n",
            "1/1 [==============================] - 0s 10ms/step - loss: 9.8842 - mse: 9.8842\n",
            "Epoch 36/100\n",
            "1/1 [==============================] - 0s 10ms/step - loss: 9.4022 - mse: 9.4022\n",
            "Epoch 37/100\n",
            "1/1 [==============================] - 0s 9ms/step - loss: 8.9097 - mse: 8.9097\n",
            "Epoch 38/100\n",
            "1/1 [==============================] - 0s 10ms/step - loss: 8.3761 - mse: 8.3761\n",
            "Epoch 39/100\n",
            "1/1 [==============================] - 0s 9ms/step - loss: 7.7976 - mse: 7.7976\n",
            "Epoch 40/100\n",
            "1/1 [==============================] - 0s 10ms/step - loss: 7.1717 - mse: 7.1717\n",
            "Epoch 41/100\n",
            "1/1 [==============================] - 0s 11ms/step - loss: 6.5079 - mse: 6.5079\n",
            "Epoch 42/100\n",
            "1/1 [==============================] - 0s 13ms/step - loss: 5.8701 - mse: 5.8701\n",
            "Epoch 43/100\n",
            "1/1 [==============================] - 0s 8ms/step - loss: 5.3218 - mse: 5.3218\n",
            "Epoch 44/100\n",
            "1/1 [==============================] - 0s 10ms/step - loss: 4.8394 - mse: 4.8394\n",
            "Epoch 45/100\n",
            "1/1 [==============================] - 0s 9ms/step - loss: 4.3885 - mse: 4.3885\n",
            "Epoch 46/100\n",
            "1/1 [==============================] - 0s 8ms/step - loss: 3.9354 - mse: 3.9354\n",
            "Epoch 47/100\n",
            "1/1 [==============================] - 0s 9ms/step - loss: 3.4787 - mse: 3.4787\n",
            "Epoch 48/100\n",
            "1/1 [==============================] - 0s 10ms/step - loss: 3.0220 - mse: 3.0220\n",
            "Epoch 49/100\n",
            "1/1 [==============================] - 0s 9ms/step - loss: 2.5724 - mse: 2.5724\n",
            "Epoch 50/100\n",
            "1/1 [==============================] - 0s 8ms/step - loss: 2.1434 - mse: 2.1434\n",
            "Epoch 51/100\n",
            "1/1 [==============================] - 0s 9ms/step - loss: 1.7839 - mse: 1.7839\n",
            "Epoch 52/100\n",
            "1/1 [==============================] - 0s 9ms/step - loss: 1.4977 - mse: 1.4977\n",
            "Epoch 53/100\n",
            "1/1 [==============================] - 0s 10ms/step - loss: 1.2801 - mse: 1.2801\n",
            "Epoch 54/100\n",
            "1/1 [==============================] - 0s 10ms/step - loss: 1.1036 - mse: 1.1036\n",
            "Epoch 55/100\n",
            "1/1 [==============================] - 0s 10ms/step - loss: 0.9438 - mse: 0.9438\n",
            "Epoch 56/100\n",
            "1/1 [==============================] - 0s 11ms/step - loss: 0.8015 - mse: 0.8015\n",
            "Epoch 57/100\n",
            "1/1 [==============================] - 0s 10ms/step - loss: 0.6838 - mse: 0.6838\n",
            "Epoch 58/100\n",
            "1/1 [==============================] - 0s 10ms/step - loss: 0.6029 - mse: 0.6029\n",
            "Epoch 59/100\n",
            "1/1 [==============================] - 0s 11ms/step - loss: 0.5672 - mse: 0.5672\n",
            "Epoch 60/100\n",
            "1/1 [==============================] - 0s 11ms/step - loss: 0.5609 - mse: 0.5609\n",
            "Epoch 61/100\n",
            "1/1 [==============================] - 0s 10ms/step - loss: 0.5680 - mse: 0.5680\n",
            "Epoch 62/100\n",
            "1/1 [==============================] - 0s 11ms/step - loss: 0.5611 - mse: 0.5611\n",
            "Epoch 63/100\n",
            "1/1 [==============================] - 0s 10ms/step - loss: 0.5447 - mse: 0.5447\n",
            "Epoch 64/100\n",
            "1/1 [==============================] - 0s 10ms/step - loss: 0.5427 - mse: 0.5427\n",
            "Epoch 65/100\n",
            "1/1 [==============================] - 0s 11ms/step - loss: 0.5551 - mse: 0.5551\n",
            "Epoch 66/100\n",
            "1/1 [==============================] - 0s 11ms/step - loss: 0.5672 - mse: 0.5672\n",
            "Epoch 67/100\n",
            "1/1 [==============================] - 0s 10ms/step - loss: 0.5634 - mse: 0.5634\n",
            "Epoch 68/100\n",
            "1/1 [==============================] - 0s 10ms/step - loss: 0.5436 - mse: 0.5436\n",
            "Epoch 69/100\n",
            "1/1 [==============================] - 0s 10ms/step - loss: 0.5085 - mse: 0.5085\n",
            "Epoch 70/100\n",
            "1/1 [==============================] - 0s 9ms/step - loss: 0.4687 - mse: 0.4687\n",
            "Epoch 71/100\n",
            "1/1 [==============================] - 0s 10ms/step - loss: 0.4284 - mse: 0.4284\n",
            "Epoch 72/100\n",
            "1/1 [==============================] - 0s 9ms/step - loss: 0.3971 - mse: 0.3971\n",
            "Epoch 73/100\n",
            "1/1 [==============================] - 0s 10ms/step - loss: 0.3634 - mse: 0.3634\n",
            "Epoch 74/100\n",
            "1/1 [==============================] - 0s 10ms/step - loss: 0.3213 - mse: 0.3213\n",
            "Epoch 75/100\n",
            "1/1 [==============================] - 0s 10ms/step - loss: 0.2751 - mse: 0.2751\n",
            "Epoch 76/100\n",
            "1/1 [==============================] - 0s 9ms/step - loss: 0.2316 - mse: 0.2316\n",
            "Epoch 77/100\n",
            "1/1 [==============================] - 0s 12ms/step - loss: 0.1961 - mse: 0.1961\n",
            "Epoch 78/100\n",
            "1/1 [==============================] - 0s 9ms/step - loss: 0.1698 - mse: 0.1698\n",
            "Epoch 79/100\n",
            "1/1 [==============================] - 0s 10ms/step - loss: 0.1479 - mse: 0.1479\n",
            "Epoch 80/100\n",
            "1/1 [==============================] - 0s 10ms/step - loss: 0.1263 - mse: 0.1263\n",
            "Epoch 81/100\n",
            "1/1 [==============================] - 0s 10ms/step - loss: 0.1050 - mse: 0.1050\n",
            "Epoch 82/100\n",
            "1/1 [==============================] - 0s 11ms/step - loss: 0.0872 - mse: 0.0872\n",
            "Epoch 83/100\n",
            "1/1 [==============================] - 0s 10ms/step - loss: 0.0745 - mse: 0.0745\n",
            "Epoch 84/100\n",
            "1/1 [==============================] - 0s 11ms/step - loss: 0.0658 - mse: 0.0658\n",
            "Epoch 85/100\n",
            "1/1 [==============================] - 0s 10ms/step - loss: 0.0593 - mse: 0.0593\n",
            "Epoch 86/100\n",
            "1/1 [==============================] - 0s 9ms/step - loss: 0.0528 - mse: 0.0528\n",
            "Epoch 87/100\n",
            "1/1 [==============================] - 0s 10ms/step - loss: 0.0469 - mse: 0.0469\n",
            "Epoch 88/100\n",
            "1/1 [==============================] - 0s 9ms/step - loss: 0.0419 - mse: 0.0419\n",
            "Epoch 89/100\n",
            "1/1 [==============================] - 0s 9ms/step - loss: 0.0389 - mse: 0.0389\n",
            "Epoch 90/100\n",
            "1/1 [==============================] - 0s 9ms/step - loss: 0.0383 - mse: 0.0383\n",
            "Epoch 91/100\n",
            "1/1 [==============================] - 0s 9ms/step - loss: 0.0370 - mse: 0.0370\n",
            "Epoch 92/100\n",
            "1/1 [==============================] - 0s 10ms/step - loss: 0.0351 - mse: 0.0351\n",
            "Epoch 93/100\n",
            "1/1 [==============================] - 0s 10ms/step - loss: 0.0328 - mse: 0.0328\n",
            "Epoch 94/100\n",
            "1/1 [==============================] - 0s 9ms/step - loss: 0.0305 - mse: 0.0305\n",
            "Epoch 95/100\n",
            "1/1 [==============================] - 0s 8ms/step - loss: 0.0283 - mse: 0.0283\n",
            "Epoch 96/100\n",
            "1/1 [==============================] - 0s 9ms/step - loss: 0.0262 - mse: 0.0262\n",
            "Epoch 97/100\n",
            "1/1 [==============================] - 0s 10ms/step - loss: 0.0238 - mse: 0.0238\n",
            "Epoch 98/100\n",
            "1/1 [==============================] - 0s 11ms/step - loss: 0.0221 - mse: 0.0221\n",
            "Epoch 99/100\n",
            "1/1 [==============================] - 0s 12ms/step - loss: 0.0202 - mse: 0.0202\n",
            "Epoch 100/100\n",
            "1/1 [==============================] - 0s 12ms/step - loss: 0.0181 - mse: 0.0181\n"
          ]
        },
        {
          "output_type": "execute_result",
          "data": {
            "text/plain": [
              "<keras.callbacks.History at 0x7fe9905dcfd0>"
            ]
          },
          "metadata": {},
          "execution_count": 92
        }
      ]
    },
    {
      "cell_type": "code",
      "source": [
        "plt.scatter(tf.expand_dims(X, axis=-1), tf.expand_dims(y, axis=-1))\n",
        "plt.scatter(X, model.predict(X))"
      ],
      "metadata": {
        "colab": {
          "base_uri": "https://localhost:8080/",
          "height": 300
        },
        "id": "-iMoRdpUOZ6c",
        "outputId": "df8bceee-d256-4df1-bd9c-611f059c9b03"
      },
      "execution_count": null,
      "outputs": [
        {
          "output_type": "stream",
          "name": "stdout",
          "text": [
            "1/1 [==============================] - 0s 81ms/step\n"
          ]
        },
        {
          "output_type": "execute_result",
          "data": {
            "text/plain": [
              "<matplotlib.collections.PathCollection at 0x7fe99070c310>"
            ]
          },
          "metadata": {},
          "execution_count": 93
        },
        {
          "output_type": "display_data",
          "data": {
            "text/plain": [
              "<Figure size 432x288 with 1 Axes>"
            ],
            "image/png": "[encoded data removed]"
          },
          "metadata": {
            "needs_background": "light"
          }
        }
      ]
    },
    {
      "cell_type": "markdown",
      "source": [
        "## Evaluating the model\n",
        "\n",
        "In practice we train it -> [Fit it -> Evaluate it - > tweak it ->] (repeat till satisfied) \n",
        "\n",
        "When evaluating models, visualize it!!\n",
        "In general its a good idea to visualize:\n",
        "* The data\n",
        "* The model \n",
        "* Training of the model\n",
        "* Predictions of the model\n"
      ],
      "metadata": {
        "id": "cKEM2HYkQDAj"
      }
    },
    {
      "cell_type": "code",
      "source": [
        "# Make a bigger dataset\n",
        "X = tf.range(-100, 100, 4)\n",
        "X\n"
      ],
      "metadata": {
        "colab": {
          "base_uri": "https://localhost:8080/"
        },
        "id": "FPY0vnxzbrIn",
        "outputId": "2a2f9e32-e8a7-408e-c8a1-a4e2a071eac5"
      },
      "execution_count": null,
      "outputs": [
        {
          "output_type": "execute_result",
          "data": {
            "text/plain": [
              "<tf.Tensor: shape=(50,), dtype=int32, numpy=\n",
              "array([-100,  -96,  -92,  -88,  -84,  -80,  -76,  -72,  -68,  -64,  -60,\n",
              "        -56,  -52,  -48,  -44,  -40,  -36,  -32,  -28,  -24,  -20,  -16,\n",
              "        -12,   -8,   -4,    0,    4,    8,   12,   16,   20,   24,   28,\n",
              "         32,   36,   40,   44,   48,   52,   56,   60,   64,   68,   72,\n",
              "         76,   80,   84,   88,   92,   96], dtype=int32)>"
            ]
          },
          "metadata": {},
          "execution_count": 95
        }
      ]
    },
    {
      "cell_type": "code",
      "source": [
        "y = X + 10\n",
        "y"
      ],
      "metadata": {
        "colab": {
          "base_uri": "https://localhost:8080/"
        },
        "id": "H4QbAMCPcP-F",
        "outputId": "78926b66-c8ad-4711-aa9f-64f772e73fcc"
      },
      "execution_count": null,
      "outputs": [
        {
          "output_type": "execute_result",
          "data": {
            "text/plain": [
              "<tf.Tensor: shape=(50,), dtype=int32, numpy=\n",
              "array([-90, -86, -82, -78, -74, -70, -66, -62, -58, -54, -50, -46, -42,\n",
              "       -38, -34, -30, -26, -22, -18, -14, -10,  -6,  -2,   2,   6,  10,\n",
              "        14,  18,  22,  26,  30,  34,  38,  42,  46,  50,  54,  58,  62,\n",
              "        66,  70,  74,  78,  82,  86,  90,  94,  98, 102, 106], dtype=int32)>"
            ]
          },
          "metadata": {},
          "execution_count": 96
        }
      ]
    },
    {
      "cell_type": "code",
      "source": [
        "plt.scatter(X,y)"
      ],
      "metadata": {
        "colab": {
          "base_uri": "https://localhost:8080/",
          "height": 282
        },
        "id": "j-Jt-x00cT5U",
        "outputId": "ffa060f8-6438-4f2d-e6ae-6c57b9bf6db4"
      },
      "execution_count": null,
      "outputs": [
        {
          "output_type": "execute_result",
          "data": {
            "text/plain": [
              "<matplotlib.collections.PathCollection at 0x7fe9905a9490>"
            ]
          },
          "metadata": {},
          "execution_count": 97
        },
        {
          "output_type": "display_data",
          "data": {
            "text/plain": [
              "<Figure size 432x288 with 1 Axes>"
            ],
            "image/png": "[encoded data removed]"
          },
          "metadata": {
            "needs_background": "light"
          }
        }
      ]
    },
    {
      "cell_type": "markdown",
      "source": [
        "### The three sets\n",
        "* **Training set:** Data that the model learns from (70-80 %)\n",
        "* **Validation set**: Model gets tuned on this data (10-15 %)\n",
        "* **Test set:** Model gets evaluated on this data (10-15 %)"
      ],
      "metadata": {
        "id": "STQJt9h0cXc9"
      }
    },
    {
      "cell_type": "code",
      "source": [
        "# Check the length of samples\n",
        "len(X)"
      ],
      "metadata": {
        "colab": {
          "base_uri": "https://localhost:8080/"
        },
        "id": "44OM3DuzeGwY",
        "outputId": "4e89eac0-ec93-4d96-ecec-0b1540a1b835"
      },
      "execution_count": null,
      "outputs": [
        {
          "output_type": "execute_result",
          "data": {
            "text/plain": [
              "50"
            ]
          },
          "metadata": {},
          "execution_count": 98
        }
      ]
    },
    {
      "cell_type": "markdown",
      "source": [
        "#### Split the data into train and test set"
      ],
      "metadata": {
        "id": "Umvl3xTufRiB"
      }
    },
    {
      "cell_type": "code",
      "source": [
        "# Split the data into train and test set\n",
        "X_train = X[:40]\n",
        "X_test = X[40:]\n",
        "\n",
        "y_train = y[:40]\n",
        "y_test = y[40:]"
      ],
      "metadata": {
        "id": "6OP1WqNeeXhi"
      },
      "execution_count": null,
      "outputs": []
    },
    {
      "cell_type": "code",
      "source": [
        "plt.scatter(X_train, y_train, label=\"Train data\")\n",
        "plt.scatter(X_test, y_test, label=\"Test data\")\n",
        "plt.legend()"
      ],
      "metadata": {
        "colab": {
          "base_uri": "https://localhost:8080/",
          "height": 282
        },
        "id": "C6c3J8u8epoa",
        "outputId": "e1e5167f-f1c7-4645-e8ca-644a6bba7833"
      },
      "execution_count": null,
      "outputs": [
        {
          "output_type": "execute_result",
          "data": {
            "text/plain": [
              "<matplotlib.legend.Legend at 0x7fe9890153d0>"
            ]
          },
          "metadata": {},
          "execution_count": 104
        },
        {
          "output_type": "display_data",
          "data": {
            "text/plain": [
              "<Figure size 432x288 with 1 Axes>"
            ],
            "image/png": "[encoded data removed]"
          },
          "metadata": {
            "needs_background": "light"
          }
        }
      ]
    },
    {
      "cell_type": "code",
      "source": [
        "# Building a neural network for our data\n",
        "\n",
        "# Create a model\n",
        "model = tf.keras.Sequential()\n",
        "model.add(tf.keras.layers.Dense(100, activation = \"relu\"))\n",
        "model.add(tf.keras.layers.Dense(1))\n",
        "\n",
        "# Compile the model\n",
        "model.compile(loss=\"MAE\",\n",
        "              optimizer=tf.keras.optimizers.Adam(learning_rate = 0.01),\n",
        "              metrics=[\"mae\"])\n",
        "\n",
        "# Fit the model\n",
        "model.fit(tf.expand_dims(X_train, axis=-1), y_train, epochs = 100)"
      ],
      "metadata": {
        "colab": {
          "base_uri": "https://localhost:8080/"
        },
        "id": "5Ptvs-nreyHK",
        "outputId": "4b6a5406-e5e4-4e76-83f2-a1f778e03dee"
      },
      "execution_count": null,
      "outputs": [
        {
          "output_type": "stream",
          "name": "stdout",
          "text": [
            "Epoch 1/100\n",
            "2/2 [==============================] - 2s 10ms/step - loss: 30.3156 - mae: 30.3156\n",
            "Epoch 2/100\n",
            "2/2 [==============================] - 0s 10ms/step - loss: 20.0128 - mae: 20.0128\n",
            "Epoch 3/100\n",
            "2/2 [==============================] - 0s 20ms/step - loss: 11.0690 - mae: 11.0690\n",
            "Epoch 4/100\n",
            "2/2 [==============================] - 0s 9ms/step - loss: 10.4538 - mae: 10.4538\n",
            "Epoch 5/100\n",
            "2/2 [==============================] - 0s 9ms/step - loss: 9.4473 - mae: 9.4473\n",
            "Epoch 6/100\n",
            "2/2 [==============================] - 0s 9ms/step - loss: 8.0956 - mae: 8.0956\n",
            "Epoch 7/100\n",
            "2/2 [==============================] - 0s 9ms/step - loss: 5.5440 - mae: 5.5440\n",
            "Epoch 8/100\n",
            "2/2 [==============================] - 0s 8ms/step - loss: 6.9928 - mae: 6.9928\n",
            "Epoch 9/100\n",
            "2/2 [==============================] - 0s 15ms/step - loss: 7.1143 - mae: 7.1143\n",
            "Epoch 10/100\n",
            "2/2 [==============================] - 0s 10ms/step - loss: 6.0339 - mae: 6.0339\n",
            "Epoch 11/100\n",
            "2/2 [==============================] - 0s 11ms/step - loss: 4.6877 - mae: 4.6877\n",
            "Epoch 12/100\n",
            "2/2 [==============================] - 0s 11ms/step - loss: 4.5714 - mae: 4.5714\n",
            "Epoch 13/100\n",
            "2/2 [==============================] - 0s 9ms/step - loss: 5.2528 - mae: 5.2528\n",
            "Epoch 14/100\n",
            "2/2 [==============================] - 0s 8ms/step - loss: 4.1465 - mae: 4.1465\n",
            "Epoch 15/100\n",
            "2/2 [==============================] - 0s 9ms/step - loss: 4.0628 - mae: 4.0628\n",
            "Epoch 16/100\n",
            "2/2 [==============================] - 0s 11ms/step - loss: 4.4016 - mae: 4.4016\n",
            "Epoch 17/100\n",
            "2/2 [==============================] - 0s 8ms/step - loss: 4.3484 - mae: 4.3484\n",
            "Epoch 18/100\n",
            "2/2 [==============================] - 0s 22ms/step - loss: 3.9085 - mae: 3.9085\n",
            "Epoch 19/100\n",
            "2/2 [==============================] - 0s 9ms/step - loss: 3.8597 - mae: 3.8597\n",
            "Epoch 20/100\n",
            "2/2 [==============================] - 0s 9ms/step - loss: 4.6685 - mae: 4.6685\n",
            "Epoch 21/100\n",
            "2/2 [==============================] - 0s 9ms/step - loss: 3.9559 - mae: 3.9559\n",
            "Epoch 22/100\n",
            "2/2 [==============================] - 0s 10ms/step - loss: 3.7409 - mae: 3.7409\n",
            "Epoch 23/100\n",
            "2/2 [==============================] - 0s 16ms/step - loss: 4.0722 - mae: 4.0722\n",
            "Epoch 24/100\n",
            "2/2 [==============================] - 0s 12ms/step - loss: 4.1886 - mae: 4.1886\n",
            "Epoch 25/100\n",
            "2/2 [==============================] - 0s 12ms/step - loss: 3.9803 - mae: 3.9803\n",
            "Epoch 26/100\n",
            "2/2 [==============================] - 0s 7ms/step - loss: 3.8901 - mae: 3.8901\n",
            "Epoch 27/100\n",
            "2/2 [==============================] - 0s 9ms/step - loss: 3.6518 - mae: 3.6518\n",
            "Epoch 28/100\n",
            "2/2 [==============================] - 0s 8ms/step - loss: 3.6170 - mae: 3.6170\n",
            "Epoch 29/100\n",
            "2/2 [==============================] - 0s 7ms/step - loss: 3.8329 - mae: 3.8329\n",
            "Epoch 30/100\n",
            "2/2 [==============================] - 0s 7ms/step - loss: 3.4813 - mae: 3.4813\n",
            "Epoch 31/100\n",
            "2/2 [==============================] - 0s 6ms/step - loss: 3.5452 - mae: 3.5452\n",
            "Epoch 32/100\n",
            "2/2 [==============================] - 0s 7ms/step - loss: 3.9493 - mae: 3.9493\n",
            "Epoch 33/100\n",
            "2/2 [==============================] - 0s 7ms/step - loss: 3.4076 - mae: 3.4076\n",
            "Epoch 34/100\n",
            "2/2 [==============================] - 0s 8ms/step - loss: 3.6092 - mae: 3.6092\n",
            "Epoch 35/100\n",
            "2/2 [==============================] - 0s 7ms/step - loss: 3.7151 - mae: 3.7151\n",
            "Epoch 36/100\n",
            "2/2 [==============================] - 0s 7ms/step - loss: 3.4071 - mae: 3.4071\n",
            "Epoch 37/100\n",
            "2/2 [==============================] - 0s 7ms/step - loss: 3.2204 - mae: 3.2204\n",
            "Epoch 38/100\n",
            "2/2 [==============================] - 0s 6ms/step - loss: 3.2032 - mae: 3.2032\n",
            "Epoch 39/100\n",
            "2/2 [==============================] - 0s 7ms/step - loss: 3.0319 - mae: 3.0319\n",
            "Epoch 40/100\n",
            "2/2 [==============================] - 0s 8ms/step - loss: 3.0558 - mae: 3.0558\n",
            "Epoch 41/100\n",
            "2/2 [==============================] - 0s 7ms/step - loss: 3.2013 - mae: 3.2013\n",
            "Epoch 42/100\n",
            "2/2 [==============================] - 0s 7ms/step - loss: 3.0439 - mae: 3.0439\n",
            "Epoch 43/100\n",
            "2/2 [==============================] - 0s 8ms/step - loss: 2.9715 - mae: 2.9715\n",
            "Epoch 44/100\n",
            "2/2 [==============================] - 0s 9ms/step - loss: 2.8777 - mae: 2.8777\n",
            "Epoch 45/100\n",
            "2/2 [==============================] - 0s 10ms/step - loss: 2.8400 - mae: 2.8400\n",
            "Epoch 46/100\n",
            "2/2 [==============================] - 0s 7ms/step - loss: 3.1150 - mae: 3.1150\n",
            "Epoch 47/100\n",
            "2/2 [==============================] - 0s 7ms/step - loss: 3.0636 - mae: 3.0636\n",
            "Epoch 48/100\n",
            "2/2 [==============================] - 0s 8ms/step - loss: 2.7659 - mae: 2.7659\n",
            "Epoch 49/100\n",
            "2/2 [==============================] - 0s 7ms/step - loss: 2.6534 - mae: 2.6534\n",
            "Epoch 50/100\n",
            "2/2 [==============================] - 0s 6ms/step - loss: 2.5311 - mae: 2.5311\n",
            "Epoch 51/100\n",
            "2/2 [==============================] - 0s 7ms/step - loss: 2.8738 - mae: 2.8738\n",
            "Epoch 52/100\n",
            "2/2 [==============================] - 0s 8ms/step - loss: 2.7274 - mae: 2.7274\n",
            "Epoch 53/100\n",
            "2/2 [==============================] - 0s 7ms/step - loss: 2.4703 - mae: 2.4703\n",
            "Epoch 54/100\n",
            "2/2 [==============================] - 0s 7ms/step - loss: 2.5385 - mae: 2.5385\n",
            "Epoch 55/100\n",
            "2/2 [==============================] - 0s 8ms/step - loss: 2.4032 - mae: 2.4032\n",
            "Epoch 56/100\n",
            "2/2 [==============================] - 0s 7ms/step - loss: 2.2653 - mae: 2.2653\n",
            "Epoch 57/100\n",
            "2/2 [==============================] - 0s 7ms/step - loss: 2.1644 - mae: 2.1644\n",
            "Epoch 58/100\n",
            "2/2 [==============================] - 0s 6ms/step - loss: 2.2286 - mae: 2.2286\n",
            "Epoch 59/100\n",
            "2/2 [==============================] - 0s 6ms/step - loss: 2.1443 - mae: 2.1443\n",
            "Epoch 60/100\n",
            "2/2 [==============================] - 0s 8ms/step - loss: 2.3919 - mae: 2.3919\n",
            "Epoch 61/100\n",
            "2/2 [==============================] - 0s 8ms/step - loss: 2.3048 - mae: 2.3048\n",
            "Epoch 62/100\n",
            "2/2 [==============================] - 0s 7ms/step - loss: 1.9819 - mae: 1.9819\n",
            "Epoch 63/100\n",
            "2/2 [==============================] - 0s 8ms/step - loss: 2.0847 - mae: 2.0847\n",
            "Epoch 64/100\n",
            "2/2 [==============================] - 0s 7ms/step - loss: 2.1871 - mae: 2.1871\n",
            "Epoch 65/100\n",
            "2/2 [==============================] - 0s 8ms/step - loss: 2.2728 - mae: 2.2728\n",
            "Epoch 66/100\n",
            "2/2 [==============================] - 0s 7ms/step - loss: 1.8857 - mae: 1.8857\n",
            "Epoch 67/100\n",
            "2/2 [==============================] - 0s 7ms/step - loss: 2.5919 - mae: 2.5919\n",
            "Epoch 68/100\n",
            "2/2 [==============================] - 0s 7ms/step - loss: 1.7994 - mae: 1.7994\n",
            "Epoch 69/100\n",
            "2/2 [==============================] - 0s 7ms/step - loss: 1.9561 - mae: 1.9561\n",
            "Epoch 70/100\n",
            "2/2 [==============================] - 0s 6ms/step - loss: 1.1819 - mae: 1.1819\n",
            "Epoch 71/100\n",
            "2/2 [==============================] - 0s 6ms/step - loss: 1.7886 - mae: 1.7886\n",
            "Epoch 72/100\n",
            "2/2 [==============================] - 0s 7ms/step - loss: 0.9919 - mae: 0.9919\n",
            "Epoch 73/100\n",
            "2/2 [==============================] - 0s 7ms/step - loss: 1.1586 - mae: 1.1586\n",
            "Epoch 74/100\n",
            "2/2 [==============================] - 0s 6ms/step - loss: 1.6689 - mae: 1.6689\n",
            "Epoch 75/100\n",
            "2/2 [==============================] - 0s 7ms/step - loss: 1.4431 - mae: 1.4431\n",
            "Epoch 76/100\n",
            "2/2 [==============================] - 0s 7ms/step - loss: 1.3830 - mae: 1.3830\n",
            "Epoch 77/100\n",
            "2/2 [==============================] - 0s 7ms/step - loss: 1.2896 - mae: 1.2896\n",
            "Epoch 78/100\n",
            "2/2 [==============================] - 0s 7ms/step - loss: 1.2813 - mae: 1.2813\n",
            "Epoch 79/100\n",
            "2/2 [==============================] - 0s 7ms/step - loss: 0.8077 - mae: 0.8077\n",
            "Epoch 80/100\n",
            "2/2 [==============================] - 0s 9ms/step - loss: 0.9839 - mae: 0.9839\n",
            "Epoch 81/100\n",
            "2/2 [==============================] - 0s 10ms/step - loss: 1.1172 - mae: 1.1172\n",
            "Epoch 82/100\n",
            "2/2 [==============================] - 0s 7ms/step - loss: 0.8896 - mae: 0.8896\n",
            "Epoch 83/100\n",
            "2/2 [==============================] - 0s 7ms/step - loss: 1.2095 - mae: 1.2095\n",
            "Epoch 84/100\n",
            "2/2 [==============================] - 0s 10ms/step - loss: 0.5813 - mae: 0.5813\n",
            "Epoch 85/100\n",
            "2/2 [==============================] - 0s 7ms/step - loss: 0.9687 - mae: 0.9687\n",
            "Epoch 86/100\n",
            "2/2 [==============================] - 0s 7ms/step - loss: 1.5926 - mae: 1.5926\n",
            "Epoch 87/100\n",
            "2/2 [==============================] - 0s 7ms/step - loss: 1.8696 - mae: 1.8696\n",
            "Epoch 88/100\n",
            "2/2 [==============================] - 0s 7ms/step - loss: 1.8881 - mae: 1.8881\n",
            "Epoch 89/100\n",
            "2/2 [==============================] - 0s 7ms/step - loss: 1.3055 - mae: 1.3055\n",
            "Epoch 90/100\n",
            "2/2 [==============================] - 0s 7ms/step - loss: 1.3733 - mae: 1.3733\n",
            "Epoch 91/100\n",
            "2/2 [==============================] - 0s 7ms/step - loss: 1.3872 - mae: 1.3872\n",
            "Epoch 92/100\n",
            "2/2 [==============================] - 0s 6ms/step - loss: 1.4305 - mae: 1.4305\n",
            "Epoch 93/100\n",
            "2/2 [==============================] - 0s 5ms/step - loss: 1.7706 - mae: 1.7706\n",
            "Epoch 94/100\n",
            "2/2 [==============================] - 0s 8ms/step - loss: 1.3864 - mae: 1.3864\n",
            "Epoch 95/100\n",
            "2/2 [==============================] - 0s 8ms/step - loss: 1.5833 - mae: 1.5833\n",
            "Epoch 96/100\n",
            "2/2 [==============================] - 0s 8ms/step - loss: 1.4144 - mae: 1.4144\n",
            "Epoch 97/100\n",
            "2/2 [==============================] - 0s 7ms/step - loss: 1.1307 - mae: 1.1307\n",
            "Epoch 98/100\n",
            "2/2 [==============================] - 0s 8ms/step - loss: 1.2520 - mae: 1.2520\n",
            "Epoch 99/100\n",
            "2/2 [==============================] - 0s 7ms/step - loss: 0.9352 - mae: 0.9352\n",
            "Epoch 100/100\n",
            "2/2 [==============================] - 0s 6ms/step - loss: 0.4389 - mae: 0.4389\n"
          ]
        },
        {
          "output_type": "execute_result",
          "data": {
            "text/plain": [
              "<keras.callbacks.History at 0x7fe990b73cd0>"
            ]
          },
          "metadata": {},
          "execution_count": 113
        }
      ]
    },
    {
      "cell_type": "code",
      "source": [
        "# Prediction\n",
        "y_pred = model.predict(X_test)"
      ],
      "metadata": {
        "colab": {
          "base_uri": "https://localhost:8080/"
        },
        "id": "EpAEq1dXgLPb",
        "outputId": "9e0a6314-8a1a-43a8-c9a6-892e3de50c55"
      },
      "execution_count": null,
      "outputs": [
        {
          "output_type": "stream",
          "name": "stdout",
          "text": [
            "1/1 [==============================] - 0s 218ms/step\n"
          ]
        }
      ]
    },
    {
      "cell_type": "code",
      "source": [
        "# Visualizing the model\n",
        "model.summary()"
      ],
      "metadata": {
        "colab": {
          "base_uri": "https://localhost:8080/"
        },
        "id": "av7_lhPWhZ4K",
        "outputId": "e46ba741-2004-46de-9542-d39c22d2c42c"
      },
      "execution_count": null,
      "outputs": [
        {
          "output_type": "stream",
          "name": "stdout",
          "text": [
            "Model: \"sequential_35\"\n",
            "_________________________________________________________________\n",
            " Layer (type)                Output Shape              Param #   \n",
            "=================================================================\n",
            " dense_65 (Dense)            (None, 100)               200       \n",
            "                                                                 \n",
            " dense_66 (Dense)            (None, 1)                 101       \n",
            "                                                                 \n",
            "=================================================================\n",
            "Total params: 301\n",
            "Trainable params: 301\n",
            "Non-trainable params: 0\n",
            "_________________________________________________________________\n"
          ]
        }
      ]
    },
    {
      "cell_type": "markdown",
      "source": [
        "* **Total params:** total params in our model\n",
        "* **Trainable params:** params that model updates while training\n",
        "* **Non-trainable params:** params not updates during training (params that are transfered from other models during **transfer learning**)"
      ],
      "metadata": {
        "id": "LGljXqWKv_FN"
      }
    },
    {
      "cell_type": "code",
      "source": [
        "x = tf.constant([[1,3,4],\n",
        "                 [1,4,5]])\n",
        "x.shape"
      ],
      "metadata": {
        "colab": {
          "base_uri": "https://localhost:8080/"
        },
        "id": "fsa9_KOzpBtt",
        "outputId": "28ed2e77-1dc8-4f98-ec14-04ac95102f31"
      },
      "execution_count": null,
      "outputs": [
        {
          "output_type": "execute_result",
          "data": {
            "text/plain": [
              "TensorShape([2, 3])"
            ]
          },
          "metadata": {},
          "execution_count": 131
        }
      ]
    },
    {
      "cell_type": "code",
      "source": [
        "def summary_model(model):\n",
        "  from tensorflow.keras.utils import plot_model\n",
        "  model.summary()\n",
        "  plot_model(model, show_shapes=True)"
      ],
      "metadata": {
        "id": "IHzpcZbfv8La"
      },
      "execution_count": null,
      "outputs": []
    },
    {
      "cell_type": "code",
      "source": [
        "# Creating a model that builds automatically by defining the input_shape\n",
        "tf.random.set_seed(42)\n",
        "\n",
        "# Create the model\n",
        "model = tf.keras.Sequential()\n",
        "model.add(tf.keras.layers.Dense(100, input_shape = [1], activation = \"relu\"))\n",
        "model.add(tf.keras.layers.Dense(100, activation = \"relu\"))\n",
        "model.add(tf.keras.layers.Dense(1))\n",
        "# Complile the model\n",
        "model.compile(loss=\"MSE\",\n",
        "              optimizer=tf.keras.optimizers.Adam(learning_rate = 0.01),\n",
        "              metrics=[\"mse\"])\n"
      ],
      "metadata": {
        "id": "izMlng8ShrcH"
      },
      "execution_count": null,
      "outputs": []
    },
    {
      "cell_type": "code",
      "source": [
        "# Fit the model to the training data\n",
        "model.fit(X_train, y_train, epochs = 100, verbose = 0)"
      ],
      "metadata": {
        "colab": {
          "base_uri": "https://localhost:8080/"
        },
        "id": "X5y-nCsskbFT",
        "outputId": "0e0cc8b3-f69f-4f0b-a8b2-d3f5513a0ff5"
      },
      "execution_count": null,
      "outputs": [
        {
          "output_type": "execute_result",
          "data": {
            "text/plain": [
              "<keras.callbacks.History at 0x7fe9911bcd00>"
            ]
          },
          "metadata": {},
          "execution_count": 172
        }
      ]
    },
    {
      "cell_type": "markdown",
      "source": [
        "###  Visualizing a models predictions\n",
        "\n",
        "It's a good idea to plot the predictions against ground truth labels. \n",
        "\n",
        "So, a graph of the form y_test vs y_true\n",
        "\n"
      ],
      "metadata": {
        "id": "4seVwtlekrhf"
      }
    },
    {
      "cell_type": "code",
      "source": [
        "# Visualizing\n",
        "y_pred = model.predict(X_test)\n",
        "plot_func(train_data = X_train,\n",
        "              train_label = y_train,\n",
        "              test_data = X_test,\n",
        "              test_label = y_test,\n",
        "              pred_data = y_pred)"
      ],
      "metadata": {
        "colab": {
          "base_uri": "https://localhost:8080/",
          "height": 445
        },
        "id": "8GmsNh__gtyh",
        "outputId": "bfa01714-5c8f-48a6-868f-90fe40b831f4"
      },
      "execution_count": null,
      "outputs": [
        {
          "output_type": "stream",
          "name": "stdout",
          "text": [
            "1/1 [==============================] - 0s 59ms/step\n"
          ]
        },
        {
          "output_type": "display_data",
          "data": {
            "text/plain": [
              "<Figure size 720x504 with 1 Axes>"
            ],
            "image/png": "[encoded data removed]"
          },
          "metadata": {
            "needs_background": "light"
          }
        }
      ]
    },
    {
      "cell_type": "code",
      "source": [
        "# Creating aplottng function\n",
        "def plot_func(train_data = X_train,\n",
        "              train_label = y_train,\n",
        "              test_data = X_test,\n",
        "              test_label = y_test,\n",
        "              pred_data = y_pred):\n",
        "  \"\"\"\n",
        "  Plot's, training data, test data and compares predictions to ground truth\n",
        "  train_data: Training attributes,\n",
        "  train_label: Outputs of training data,\n",
        "  test_data = Testing attributes,\n",
        "  test_label = Outputs of testing data,\n",
        "  pred_data = Predicted values\n",
        "  \n",
        "  \"\"\"\n",
        "  plt.figure(figsize=(10,7))\n",
        "  # Plot training data in blue\n",
        "  plt.scatter(train_data, train_label, c = 'b', label = \"Training data\")\n",
        "  # Plot testing data in green\n",
        "  plt.scatter(test_data, test_label, c = 'g', label = \"Testing data\")\n",
        "  # Plot predictions in red\n",
        "  plt.scatter(test_data, pred_data, c = 'r', label = \"Prediction data\")\n",
        "  plt.legend()\n",
        "\n"
      ],
      "metadata": {
        "id": "7_8eMJCZhY6v"
      },
      "execution_count": null,
      "outputs": []
    },
    {
      "cell_type": "code",
      "source": [
        "plot_func(train_data = X_train,\n",
        "              train_label = y_train,\n",
        "              test_data = X_test,\n",
        "              test_label = y_test,\n",
        "              pred_data = y_pred)"
      ],
      "metadata": {
        "colab": {
          "base_uri": "https://localhost:8080/",
          "height": 428
        },
        "id": "H1JEKLUChFvh",
        "outputId": "7463e9f9-d221-46fe-a939-194292103eec"
      },
      "execution_count": null,
      "outputs": [
        {
          "output_type": "display_data",
          "data": {
            "text/plain": [
              "<Figure size 720x504 with 1 Axes>"
            ],
            "image/png": "[encoded data removed]"
          },
          "metadata": {
            "needs_background": "light"
          }
        }
      ]
    },
    {
      "cell_type": "markdown",
      "source": [
        "### Evaluating models predictions with regression evaluation metrics\n",
        "\n",
        "Evaluation metrics depend on the problems we are working on.\n",
        "\n",
        "For regression two of the main metrics are:\n",
        "\n",
        "* MAE: mean absolute error -> mean(abs(y - y_pred))\n",
        "---\n",
        "* MSE: mean square error -> mean(\n",
        "(y-y_pred)^2)"
      ],
      "metadata": {
        "id": "WqXX8SUgtWUN"
      }
    },
    {
      "cell_type": "code",
      "source": [
        "# Evaluate the model on the test set\n",
        "model.evaluate(X_test, y_test)\n"
      ],
      "metadata": {
        "colab": {
          "base_uri": "https://localhost:8080/"
        },
        "id": "-RC3DeNRvfm6",
        "outputId": "33675066-7b3e-491d-9452-a8a44cf258c6"
      },
      "execution_count": null,
      "outputs": [
        {
          "output_type": "stream",
          "name": "stdout",
          "text": [
            "1/1 [==============================] - 0s 27ms/step - loss: 0.5932 - mse: 0.5932\n"
          ]
        },
        {
          "output_type": "execute_result",
          "data": {
            "text/plain": [
              "[0.5932384729385376, 0.5932384729385376]"
            ]
          },
          "metadata": {},
          "execution_count": 207
        }
      ]
    },
    {
      "cell_type": "code",
      "source": [
        "tf.squeeze(tf.constant(y_pred))\n",
        "tf.expand_dims(y_test, axis = -1)"
      ],
      "metadata": {
        "colab": {
          "base_uri": "https://localhost:8080/"
        },
        "id": "sk3rqFBPzyyF",
        "outputId": "5f167903-9c25-4adc-a0d8-b5f45a026bb3"
      },
      "execution_count": null,
      "outputs": [
        {
          "output_type": "execute_result",
          "data": {
            "text/plain": [
              "<tf.Tensor: shape=(10, 1), dtype=int32, numpy=\n",
              "array([[ 70],\n",
              "       [ 74],\n",
              "       [ 78],\n",
              "       [ 82],\n",
              "       [ 86],\n",
              "       [ 90],\n",
              "       [ 94],\n",
              "       [ 98],\n",
              "       [102],\n",
              "       [106]], dtype=int32)>"
            ]
          },
          "metadata": {},
          "execution_count": 200
        }
      ]
    },
    {
      "cell_type": "code",
      "source": [
        "# Calulate the mean absolute error\n",
        "loss = tf.metrics.mean_squared_error(y_test, tf.squeeze(tf.constant(y_pred)))\n",
        "loss"
      ],
      "metadata": {
        "colab": {
          "base_uri": "https://localhost:8080/"
        },
        "id": "Tm-dIMw4xvFZ",
        "outputId": "803d6476-dabe-4f34-d0f2-3784e02a77eb"
      },
      "execution_count": null,
      "outputs": [
        {
          "output_type": "execute_result",
          "data": {
            "text/plain": [
              "<tf.Tensor: shape=(), dtype=float32, numpy=0.5932371>"
            ]
          },
          "metadata": {},
          "execution_count": 206
        }
      ]
    },
    {
      "cell_type": "code",
      "source": [
        "# Make a function for the mean squared error and mean absolute error\n",
        "def mae(y_true = y_test, y_pred = y_pred):\n",
        "  return tf.metrics.mean_absolute_error(y_true, tf.squeeze(tf.constant(y_pred)))\n",
        "\n",
        "def mse(y_true = y_test, y_pred = y_pred):\n",
        "  return tf.metrics.mean_squared_error(y_true, tf.squeeze(tf.constant(y_pred)))\n"
      ],
      "metadata": {
        "id": "mGluVRiuybMp"
      },
      "execution_count": null,
      "outputs": []
    },
    {
      "cell_type": "code",
      "source": [
        "mae(y_test, y_pred)"
      ],
      "metadata": {
        "colab": {
          "base_uri": "https://localhost:8080/"
        },
        "id": "OzR3kAqOy7N4",
        "outputId": "a3a1f331-68b9-4d1a-ede4-be1d90ac6674"
      },
      "execution_count": null,
      "outputs": [
        {
          "output_type": "execute_result",
          "data": {
            "text/plain": [
              "<tf.Tensor: shape=(), dtype=float32, numpy=0.61526567>"
            ]
          },
          "metadata": {},
          "execution_count": 212
        }
      ]
    },
    {
      "cell_type": "code",
      "source": [
        "mse(y_test, y_pred)"
      ],
      "metadata": {
        "colab": {
          "base_uri": "https://localhost:8080/"
        },
        "id": "KPT0ERy71oKd",
        "outputId": "df103fe2-2e92-4361-f26a-217cf743d2d8"
      },
      "execution_count": null,
      "outputs": [
        {
          "output_type": "execute_result",
          "data": {
            "text/plain": [
              "<tf.Tensor: shape=(), dtype=float32, numpy=0.5932371>"
            ]
          },
          "metadata": {},
          "execution_count": 213
        }
      ]
    },
    {
      "cell_type": "markdown",
      "source": [
        "### Running experiments to improve our model\n",
        "\n",
        "1. Get more data\n",
        "2. Make the model larger\n",
        "3. Train for longer\n",
        "\n",
        "We do three modelling experiments: \n",
        "1. `model-1` - original model, 1 layer, trained for 100 epochs.\n",
        "2. `model_2` - 2 layers, trained for 100 epochs\n",
        "3. `model_3` - 2 layers, tained for 500 epochs."
      ],
      "metadata": {
        "id": "Epd8pAhU1rpE"
      }
    },
    {
      "cell_type": "code",
      "source": [
        "tf.random.set_seed(42)\n",
        "# Creating model_1\n",
        "\n",
        "model_1 = tf.keras.Sequential([\n",
        "    tf.keras.layers.Dense(1, input_shape= [1])\n",
        "])\n",
        "\n",
        "# Compiling model_1\n",
        "model_1.compile(loss=\"MAE\",\n",
        "             optimizer=tf.keras.optimizers.Adam(learning_rate = 0.01),\n",
        "             metrics = [\"mae\"])\n",
        "\n",
        "# Creating model_2\n",
        "\n",
        "model_2 = tf.keras.Sequential([\n",
        "    tf.keras.layers.Dense(100, activation = \"relu\", input_shape=[1]),\n",
        "    tf.keras.layers.Dense(1)\n",
        "])\n",
        "\n",
        "# Compiling model_2\n",
        "model_2.compile(loss=\"MAE\",\n",
        "               optimizer=tf.keras.optimizers.Adam(learning_rate = 0.01),\n",
        "               metrics=[\"mae\"])\n",
        "\n",
        "# Creating model_3\n",
        "model_3 = tf.keras.Sequential([\n",
        "    tf.keras.layers.Dense(100, activation=\"relu\", input_shape=[1]),\n",
        "    tf.keras.layers.Dense(1)\n",
        "])\n",
        "\n",
        "# Compiling model_3\n",
        "model_3.compile(loss=\"MAE\",\n",
        "               optimizer=tf.keras.optimizers.Adam(learning_rate = 0.01),\n",
        "               metrics=\"mae\")\n"
      ],
      "metadata": {
        "id": "lMGsL6Me-gMN"
      },
      "execution_count": null,
      "outputs": []
    },
    {
      "cell_type": "code",
      "source": [
        "model_1.fit(tf.expand_dims(X_train, axis = -1), y_train, epochs=100, verbose = 0)"
      ],
      "metadata": {
        "colab": {
          "base_uri": "https://localhost:8080/"
        },
        "id": "3LqQrT4BAaaD",
        "outputId": "298de512-2cee-4013-de3f-71902eba284d"
      },
      "execution_count": null,
      "outputs": [
        {
          "output_type": "stream",
          "name": "stdout",
          "text": [
            "Epoch 1/100\n",
            "2/2 [==============================] - 0s 11ms/step - loss: 57.6167 - mae: 57.6167\n",
            "Epoch 2/100\n",
            "2/2 [==============================] - 0s 8ms/step - loss: 56.7396 - mae: 56.7396\n",
            "Epoch 3/100\n",
            "2/2 [==============================] - 0s 8ms/step - loss: 55.8926 - mae: 55.8926\n",
            "Epoch 4/100\n",
            "2/2 [==============================] - 0s 6ms/step - loss: 55.0317 - mae: 55.0317\n",
            "Epoch 5/100\n",
            "2/2 [==============================] - 0s 6ms/step - loss: 54.1866 - mae: 54.1866\n",
            "Epoch 6/100\n",
            "2/2 [==============================] - 0s 7ms/step - loss: 53.3338 - mae: 53.3338\n",
            "Epoch 7/100\n",
            "2/2 [==============================] - 0s 6ms/step - loss: 52.4737 - mae: 52.4737\n",
            "Epoch 8/100\n",
            "2/2 [==============================] - 0s 7ms/step - loss: 51.5879 - mae: 51.5879\n",
            "Epoch 9/100\n",
            "2/2 [==============================] - 0s 6ms/step - loss: 50.7648 - mae: 50.7648\n",
            "Epoch 10/100\n",
            "2/2 [==============================] - 0s 6ms/step - loss: 49.9412 - mae: 49.9412\n",
            "Epoch 11/100\n",
            "2/2 [==============================] - 0s 7ms/step - loss: 49.0527 - mae: 49.0527\n",
            "Epoch 12/100\n",
            "2/2 [==============================] - 0s 6ms/step - loss: 48.2193 - mae: 48.2193\n",
            "Epoch 13/100\n",
            "2/2 [==============================] - 0s 6ms/step - loss: 47.3412 - mae: 47.3412\n",
            "Epoch 14/100\n",
            "2/2 [==============================] - 0s 6ms/step - loss: 46.5048 - mae: 46.5048\n",
            "Epoch 15/100\n",
            "2/2 [==============================] - 0s 6ms/step - loss: 45.6687 - mae: 45.6687\n",
            "Epoch 16/100\n",
            "2/2 [==============================] - 0s 6ms/step - loss: 44.7961 - mae: 44.7961\n",
            "Epoch 17/100\n",
            "2/2 [==============================] - 0s 8ms/step - loss: 43.9403 - mae: 43.9403\n",
            "Epoch 18/100\n",
            "2/2 [==============================] - 0s 6ms/step - loss: 43.0937 - mae: 43.0937\n",
            "Epoch 19/100\n",
            "2/2 [==============================] - 0s 6ms/step - loss: 42.2631 - mae: 42.2631\n",
            "Epoch 20/100\n",
            "2/2 [==============================] - 0s 6ms/step - loss: 41.4010 - mae: 41.4010\n",
            "Epoch 21/100\n",
            "2/2 [==============================] - 0s 6ms/step - loss: 40.5545 - mae: 40.5545\n",
            "Epoch 22/100\n",
            "2/2 [==============================] - 0s 7ms/step - loss: 39.7408 - mae: 39.7408\n",
            "Epoch 23/100\n",
            "2/2 [==============================] - 0s 6ms/step - loss: 38.8990 - mae: 38.8990\n",
            "Epoch 24/100\n",
            "2/2 [==============================] - 0s 6ms/step - loss: 38.0514 - mae: 38.0514\n",
            "Epoch 25/100\n",
            "2/2 [==============================] - 0s 6ms/step - loss: 37.2132 - mae: 37.2132\n",
            "Epoch 26/100\n",
            "2/2 [==============================] - 0s 6ms/step - loss: 36.3962 - mae: 36.3962\n",
            "Epoch 27/100\n",
            "2/2 [==============================] - 0s 6ms/step - loss: 35.5363 - mae: 35.5363\n",
            "Epoch 28/100\n",
            "2/2 [==============================] - 0s 6ms/step - loss: 34.7175 - mae: 34.7175\n",
            "Epoch 29/100\n",
            "2/2 [==============================] - 0s 6ms/step - loss: 33.8388 - mae: 33.8388\n",
            "Epoch 30/100\n",
            "2/2 [==============================] - 0s 7ms/step - loss: 32.9798 - mae: 32.9798\n",
            "Epoch 31/100\n",
            "2/2 [==============================] - 0s 8ms/step - loss: 32.1811 - mae: 32.1811\n",
            "Epoch 32/100\n",
            "2/2 [==============================] - 0s 7ms/step - loss: 31.3178 - mae: 31.3178\n",
            "Epoch 33/100\n",
            "2/2 [==============================] - 0s 8ms/step - loss: 30.4585 - mae: 30.4585\n",
            "Epoch 34/100\n",
            "2/2 [==============================] - 0s 7ms/step - loss: 29.6403 - mae: 29.6403\n",
            "Epoch 35/100\n",
            "2/2 [==============================] - 0s 6ms/step - loss: 28.7801 - mae: 28.7801\n",
            "Epoch 36/100\n",
            "2/2 [==============================] - 0s 9ms/step - loss: 27.9973 - mae: 27.9973\n",
            "Epoch 37/100\n",
            "2/2 [==============================] - 0s 10ms/step - loss: 27.1592 - mae: 27.1592\n",
            "Epoch 38/100\n",
            "2/2 [==============================] - 0s 7ms/step - loss: 26.3580 - mae: 26.3580\n",
            "Epoch 39/100\n",
            "2/2 [==============================] - 0s 10ms/step - loss: 25.5725 - mae: 25.5725\n",
            "Epoch 40/100\n",
            "2/2 [==============================] - 0s 7ms/step - loss: 24.7948 - mae: 24.7948\n",
            "Epoch 41/100\n",
            "2/2 [==============================] - 0s 6ms/step - loss: 24.0219 - mae: 24.0219\n",
            "Epoch 42/100\n",
            "2/2 [==============================] - 0s 5ms/step - loss: 23.2581 - mae: 23.2581\n",
            "Epoch 43/100\n",
            "2/2 [==============================] - 0s 5ms/step - loss: 22.4428 - mae: 22.4428\n",
            "Epoch 44/100\n",
            "2/2 [==============================] - 0s 6ms/step - loss: 21.7044 - mae: 21.7044\n",
            "Epoch 45/100\n",
            "2/2 [==============================] - 0s 7ms/step - loss: 20.9220 - mae: 20.9220\n",
            "Epoch 46/100\n",
            "2/2 [==============================] - 0s 6ms/step - loss: 20.1987 - mae: 20.1987\n",
            "Epoch 47/100\n",
            "2/2 [==============================] - 0s 6ms/step - loss: 19.4294 - mae: 19.4294\n",
            "Epoch 48/100\n",
            "2/2 [==============================] - 0s 6ms/step - loss: 18.7075 - mae: 18.7075\n",
            "Epoch 49/100\n",
            "2/2 [==============================] - 0s 7ms/step - loss: 17.9783 - mae: 17.9783\n",
            "Epoch 50/100\n",
            "2/2 [==============================] - 0s 7ms/step - loss: 17.2733 - mae: 17.2733\n",
            "Epoch 51/100\n",
            "2/2 [==============================] - 0s 7ms/step - loss: 16.5347 - mae: 16.5347\n",
            "Epoch 52/100\n",
            "2/2 [==============================] - 0s 7ms/step - loss: 15.8630 - mae: 15.8630\n",
            "Epoch 53/100\n",
            "2/2 [==============================] - 0s 6ms/step - loss: 15.1108 - mae: 15.1108\n",
            "Epoch 54/100\n",
            "2/2 [==============================] - 0s 6ms/step - loss: 14.4052 - mae: 14.4052\n",
            "Epoch 55/100\n",
            "2/2 [==============================] - 0s 5ms/step - loss: 13.7225 - mae: 13.7225\n",
            "Epoch 56/100\n",
            "2/2 [==============================] - 0s 7ms/step - loss: 13.0167 - mae: 13.0167\n",
            "Epoch 57/100\n",
            "2/2 [==============================] - 0s 7ms/step - loss: 12.3504 - mae: 12.3504\n",
            "Epoch 58/100\n",
            "2/2 [==============================] - 0s 7ms/step - loss: 11.7118 - mae: 11.7118\n",
            "Epoch 59/100\n",
            "2/2 [==============================] - 0s 6ms/step - loss: 11.1169 - mae: 11.1169\n",
            "Epoch 60/100\n",
            "2/2 [==============================] - 0s 7ms/step - loss: 10.5419 - mae: 10.5419\n",
            "Epoch 61/100\n",
            "2/2 [==============================] - 0s 6ms/step - loss: 10.0268 - mae: 10.0268\n",
            "Epoch 62/100\n",
            "2/2 [==============================] - 0s 8ms/step - loss: 9.5707 - mae: 9.5707\n",
            "Epoch 63/100\n",
            "2/2 [==============================] - 0s 6ms/step - loss: 9.1252 - mae: 9.1252\n",
            "Epoch 64/100\n",
            "2/2 [==============================] - 0s 6ms/step - loss: 8.7581 - mae: 8.7581\n",
            "Epoch 65/100\n",
            "2/2 [==============================] - 0s 6ms/step - loss: 8.4407 - mae: 8.4407\n",
            "Epoch 66/100\n",
            "2/2 [==============================] - 0s 6ms/step - loss: 8.2163 - mae: 8.2163\n",
            "Epoch 67/100\n",
            "2/2 [==============================] - 0s 6ms/step - loss: 8.0145 - mae: 8.0145\n",
            "Epoch 68/100\n",
            "2/2 [==============================] - 0s 7ms/step - loss: 7.9158 - mae: 7.9158\n",
            "Epoch 69/100\n",
            "2/2 [==============================] - 0s 6ms/step - loss: 7.8744 - mae: 7.8744\n",
            "Epoch 70/100\n",
            "2/2 [==============================] - 0s 6ms/step - loss: 7.8526 - mae: 7.8526\n",
            "Epoch 71/100\n",
            "2/2 [==============================] - 0s 7ms/step - loss: 7.8625 - mae: 7.8625\n",
            "Epoch 72/100\n",
            "2/2 [==============================] - 0s 6ms/step - loss: 7.8849 - mae: 7.8849\n",
            "Epoch 73/100\n",
            "2/2 [==============================] - 0s 6ms/step - loss: 7.9026 - mae: 7.9026\n",
            "Epoch 74/100\n",
            "2/2 [==============================] - 0s 6ms/step - loss: 7.8886 - mae: 7.8886\n",
            "Epoch 75/100\n",
            "2/2 [==============================] - 0s 8ms/step - loss: 7.8435 - mae: 7.8435\n",
            "Epoch 76/100\n",
            "2/2 [==============================] - 0s 7ms/step - loss: 7.7789 - mae: 7.7789\n",
            "Epoch 77/100\n",
            "2/2 [==============================] - 0s 6ms/step - loss: 7.7082 - mae: 7.7082\n",
            "Epoch 78/100\n",
            "2/2 [==============================] - 0s 7ms/step - loss: 7.6427 - mae: 7.6427\n",
            "Epoch 79/100\n",
            "2/2 [==============================] - 0s 7ms/step - loss: 7.6075 - mae: 7.6075\n",
            "Epoch 80/100\n",
            "2/2 [==============================] - 0s 8ms/step - loss: 7.5665 - mae: 7.5665\n",
            "Epoch 81/100\n",
            "2/2 [==============================] - 0s 6ms/step - loss: 7.5465 - mae: 7.5465\n",
            "Epoch 82/100\n",
            "2/2 [==============================] - 0s 7ms/step - loss: 7.5318 - mae: 7.5318\n",
            "Epoch 83/100\n",
            "2/2 [==============================] - 0s 7ms/step - loss: 7.5117 - mae: 7.5117\n",
            "Epoch 84/100\n",
            "2/2 [==============================] - 0s 7ms/step - loss: 7.4963 - mae: 7.4963\n",
            "Epoch 85/100\n",
            "2/2 [==============================] - 0s 8ms/step - loss: 7.4727 - mae: 7.4727\n",
            "Epoch 86/100\n",
            "2/2 [==============================] - 0s 6ms/step - loss: 7.4478 - mae: 7.4478\n",
            "Epoch 87/100\n",
            "2/2 [==============================] - 0s 8ms/step - loss: 7.4172 - mae: 7.4172\n",
            "Epoch 88/100\n",
            "2/2 [==============================] - 0s 9ms/step - loss: 7.3831 - mae: 7.3831\n",
            "Epoch 89/100\n",
            "2/2 [==============================] - 0s 7ms/step - loss: 7.3527 - mae: 7.3527\n",
            "Epoch 90/100\n",
            "2/2 [==============================] - 0s 7ms/step - loss: 7.3407 - mae: 7.3407\n",
            "Epoch 91/100\n",
            "2/2 [==============================] - 0s 7ms/step - loss: 7.3175 - mae: 7.3175\n",
            "Epoch 92/100\n",
            "2/2 [==============================] - 0s 10ms/step - loss: 7.3064 - mae: 7.3064\n",
            "Epoch 93/100\n",
            "2/2 [==============================] - 0s 8ms/step - loss: 7.2860 - mae: 7.2860\n",
            "Epoch 94/100\n",
            "2/2 [==============================] - 0s 6ms/step - loss: 7.2577 - mae: 7.2577\n",
            "Epoch 95/100\n",
            "2/2 [==============================] - 0s 7ms/step - loss: 7.2270 - mae: 7.2270\n",
            "Epoch 96/100\n",
            "2/2 [==============================] - 0s 8ms/step - loss: 7.2109 - mae: 7.2109\n",
            "Epoch 97/100\n",
            "2/2 [==============================] - 0s 5ms/step - loss: 7.1808 - mae: 7.1808\n",
            "Epoch 98/100\n",
            "2/2 [==============================] - 0s 9ms/step - loss: 7.1590 - mae: 7.1590\n",
            "Epoch 99/100\n",
            "2/2 [==============================] - 0s 6ms/step - loss: 7.1376 - mae: 7.1376\n",
            "Epoch 100/100\n",
            "2/2 [==============================] - 0s 11ms/step - loss: 7.1170 - mae: 7.1170\n"
          ]
        },
        {
          "output_type": "execute_result",
          "data": {
            "text/plain": [
              "<keras.callbacks.History at 0x7fe98a8ba5e0>"
            ]
          },
          "metadata": {},
          "execution_count": 232
        }
      ]
    },
    {
      "cell_type": "code",
      "source": [
        "# Make and plot predictions for model_1\n",
        "y_pred_1 = model_1.predict(X_test)\n",
        "plot_func(pred_data = y_pred_1)"
      ],
      "metadata": {
        "colab": {
          "base_uri": "https://localhost:8080/",
          "height": 445
        },
        "id": "e2EVawfAA9cD",
        "outputId": "31f445c8-b593-402f-8b8a-0507cf61f4a2"
      },
      "execution_count": null,
      "outputs": [
        {
          "output_type": "stream",
          "name": "stdout",
          "text": [
            "1/1 [==============================] - 0s 54ms/step\n"
          ]
        },
        {
          "output_type": "display_data",
          "data": {
            "text/plain": [
              "<Figure size 720x504 with 1 Axes>"
            ],
            "image/png": "[encoded data removed]"
          },
          "metadata": {
            "needs_background": "light"
          }
        }
      ]
    },
    {
      "cell_type": "code",
      "source": [
        "# Evaluate model predictions\n",
        "print(mae(y_pred = y_pred_1))\n",
        "print(mse(y_pred = y_pred_1))"
      ],
      "metadata": {
        "colab": {
          "base_uri": "https://localhost:8080/"
        },
        "id": "Zr85B2sBBPKc",
        "outputId": "9831cdcf-064e-411a-de97-12082c9e210e"
      },
      "execution_count": null,
      "outputs": [
        {
          "output_type": "stream",
          "name": "stdout",
          "text": [
            "tf.Tensor(18.24002, shape=(), dtype=float32)\n",
            "tf.Tensor(334.42877, shape=(), dtype=float32)\n"
          ]
        }
      ]
    },
    {
      "cell_type": "code",
      "source": [
        "# Make plot and predictions for model_2\n",
        "model_2.fit(tf.expand_dims(X_test, axis = -1), y_test, epochs = 500, verbose = 0)\n",
        "y_pred_2 = model_2.predict(X_test)\n",
        "print(y_pred_2)\n",
        "plot_func(pred_data = y_pred_2)\n"
      ],
      "metadata": {
        "colab": {
          "base_uri": "https://localhost:8080/",
          "height": 619
        },
        "id": "bkG7xofUByzq",
        "outputId": "3fa789ae-32af-4a3f-b22d-7cc4ec2c028b"
      },
      "execution_count": null,
      "outputs": [
        {
          "output_type": "stream",
          "name": "stdout",
          "text": [
            "1/1 [==============================] - 0s 62ms/step\n",
            "[[ 69.57192 ]\n",
            " [ 73.70972 ]\n",
            " [ 77.84751 ]\n",
            " [ 81.985306]\n",
            " [ 86.123085]\n",
            " [ 90.26088 ]\n",
            " [ 94.39868 ]\n",
            " [ 98.53647 ]\n",
            " [102.674255]\n",
            " [106.81205 ]]\n"
          ]
        },
        {
          "output_type": "display_data",
          "data": {
            "text/plain": [
              "<Figure size 720x504 with 1 Axes>"
            ],
            "image/png": "[encoded data removed]"
          },
          "metadata": {
            "needs_background": "light"
          }
        }
      ]
    },
    {
      "cell_type": "code",
      "source": [
        "# Evaluate model predictions\n",
        "print(mae(y_pred=y_pred_2))\n",
        "print(mse(y_pred=y_pred_2))"
      ],
      "metadata": {
        "colab": {
          "base_uri": "https://localhost:8080/"
        },
        "id": "BKpGjsmsC6KX",
        "outputId": "332d556b-689c-494c-ff39-2a8e42ebbc6b"
      },
      "execution_count": null,
      "outputs": [
        {
          "output_type": "stream",
          "name": "stdout",
          "text": [
            "tf.Tensor(0.36909637, shape=(), dtype=float32)\n",
            "tf.Tensor(0.19349824, shape=(), dtype=float32)\n"
          ]
        }
      ]
    },
    {
      "cell_type": "code",
      "source": [
        "# Make plot and predictions for model_3\n",
        "model_3.fit(tf.expand_dims(X_train, axis = -1), y_train, epochs = 500, verbose=0)\n",
        "y_pred_3 = model_3.predict(X_test)\n",
        "plot_func(pred_data=y_pred_3)"
      ],
      "metadata": {
        "colab": {
          "base_uri": "https://localhost:8080/",
          "height": 445
        },
        "id": "PF3OpprIEH-2",
        "outputId": "01640e05-875e-490c-8544-147522e6c40c"
      },
      "execution_count": null,
      "outputs": [
        {
          "output_type": "stream",
          "name": "stdout",
          "text": [
            "1/1 [==============================] - 0s 53ms/step\n"
          ]
        },
        {
          "output_type": "display_data",
          "data": {
            "text/plain": [
              "<Figure size 720x504 with 1 Axes>"
            ],
            "image/png": "[encoded data removed]"
          },
          "metadata": {
            "needs_background": "light"
          }
        }
      ]
    },
    {
      "cell_type": "code",
      "source": [
        "# Evaluate model predication\n",
        "print(mae(y_pred = y_pred_3))\n",
        "print(mse(y_pred=y_pred_3))"
      ],
      "metadata": {
        "colab": {
          "base_uri": "https://localhost:8080/"
        },
        "id": "xPfDZ-qiE30P",
        "outputId": "def2e1ca-6a5e-4ebe-a21b-b28062f27054"
      },
      "execution_count": null,
      "outputs": [
        {
          "output_type": "stream",
          "name": "stdout",
          "text": [
            "tf.Tensor(0.80774766, shape=(), dtype=float32)\n",
            "tf.Tensor(0.6650837, shape=(), dtype=float32)\n"
          ]
        }
      ]
    },
    {
      "cell_type": "code",
      "source": [
        "plt.scatter([1,2,3], [mae(y_pred = y_pred_1), mae(y_pred = y_pred_2), mae(y_pred = y_pred_3)])"
      ],
      "metadata": {
        "colab": {
          "base_uri": "https://localhost:8080/",
          "height": 282
        },
        "id": "ZCDPbI7lEjL3",
        "outputId": "fb32d051-1853-43f6-f4da-d58aa66023ae"
      },
      "execution_count": null,
      "outputs": [
        {
          "output_type": "execute_result",
          "data": {
            "text/plain": [
              "<matplotlib.collections.PathCollection at 0x7fe98d40a970>"
            ]
          },
          "metadata": {},
          "execution_count": 254
        },
        {
          "output_type": "display_data",
          "data": {
            "text/plain": [
              "<Figure size 432x288 with 1 Axes>"
            ],
            "image/png": "[encoded data removed]"
          },
          "metadata": {
            "needs_background": "light"
          }
        }
      ]
    },
    {
      "cell_type": "code",
      "source": [
        "plt.scatter([1,2,3], [mse(y_pred = y_pred_1), mse(y_pred = y_pred_2), mse(y_pred = y_pred_3)])"
      ],
      "metadata": {
        "colab": {
          "base_uri": "https://localhost:8080/",
          "height": 286
        },
        "id": "vHE2bvUsFLIv",
        "outputId": "c5e15a8c-577d-4f8b-d694-534606cbb0d9"
      },
      "execution_count": null,
      "outputs": [
        {
          "output_type": "execute_result",
          "data": {
            "text/plain": [
              "<matplotlib.collections.PathCollection at 0x7fe9a72ab280>"
            ]
          },
          "metadata": {},
          "execution_count": 255
        },
        {
          "output_type": "display_data",
          "data": {
            "text/plain": [
              "<Figure size 432x288 with 1 Axes>"
            ],
            "image/png": "[encoded data removed]"
          },
          "metadata": {
            "needs_background": "light"
          }
        }
      ]
    },
    {
      "cell_type": "markdown",
      "source": [
        "### Coparing the results"
      ],
      "metadata": {
        "id": "Pm8N3279Fadz"
      }
    },
    {
      "cell_type": "code",
      "source": [
        "# Creating a pandas dataframe to store the MAE and MSE values\n",
        "import pandas as pd\n",
        "model_results = [[\"model_1\", mae(y_pred = y_pred_1).numpy(), mse(y_pred = y_pred_1).numpy()],\n",
        "                 [\"model_2\", mae(y_pred = y_pred_2).numpy(), mse(y_pred = y_pred_2).numpy()],\n",
        "                 [\"model_1\", mae(y_pred = y_pred_3).numpy(), mse(y_pred = y_pred_3).numpy()]]\n",
        "model_evaluation = pd.DataFrame(model_results, columns=[\"model\", \"mae\", \"mse\"])"
      ],
      "metadata": {
        "id": "byGs3G9jHH-m"
      },
      "execution_count": null,
      "outputs": []
    },
    {
      "cell_type": "code",
      "source": [
        "model_evaluation"
      ],
      "metadata": {
        "colab": {
          "base_uri": "https://localhost:8080/",
          "height": 143
        },
        "id": "yK581be1HleT",
        "outputId": "c1575f12-faee-4f03-8490-b3c0866b171e"
      },
      "execution_count": null,
      "outputs": [
        {
          "output_type": "execute_result",
          "data": {
            "text/plain": [
              "     model        mae         mse\n",
              "0  model_1  18.240021  334.428772\n",
              "1  model_2   0.369096    0.193498\n",
              "2  model_1   0.807748    0.665084"
            ],
            "text/html": [
              "\n",
              "  <div id=\"df-6230a729-1b1e-451c-ac18-320a84ed4118\">\n",
              "    <div class=\"colab-df-container\">\n",
              "      <div>\n",
              "<style scoped>\n",
              "    .dataframe tbody tr th:only-of-type {\n",
              "        vertical-align: middle;\n",
              "    }\n",
              "\n",
              "    .dataframe tbody tr th {\n",
              "        vertical-align: top;\n",
              "    }\n",
              "\n",
              "    .dataframe thead th {\n",
              "        text-align: right;\n",
              "    }\n",
              "</style>\n",
              "<table border=\"1\" class=\"dataframe\">\n",
              "  <thead>\n",
              "    <tr style=\"text-align: right;\">\n",
              "      <th></th>\n",
              "      <th>model</th>\n",
              "      <th>mae</th>\n",
              "      <th>mse</th>\n",
              "    </tr>\n",
              "  </thead>\n",
              "  <tbody>\n",
              "    <tr>\n",
              "      <th>0</th>\n",
              "      <td>model_1</td>\n",
              "      <td>18.240021</td>\n",
              "      <td>334.428772</td>\n",
              "    </tr>\n",
              "    <tr>\n",
              "      <th>1</th>\n",
              "      <td>model_2</td>\n",
              "      <td>0.369096</td>\n",
              "      <td>0.193498</td>\n",
              "    </tr>\n",
              "    <tr>\n",
              "      <th>2</th>\n",
              "      <td>model_1</td>\n",
              "      <td>0.807748</td>\n",
              "      <td>0.665084</td>\n",
              "    </tr>\n",
              "  </tbody>\n",
              "</table>\n",
              "</div>\n",
              "      <button class=\"colab-df-convert\" onclick=\"convertToInteractive('df-6230a729-1b1e-451c-ac18-320a84ed4118')\"\n",
              "              title=\"Convert this dataframe to an interactive table.\"\n",
              "              style=\"display:none;\">\n",
              "        \n",
              "  <svg xmlns=\"http://www.w3.org/2000/svg\" height=\"24px\"viewBox=\"0 0 24 24\"\n",
              "       width=\"24px\">\n",
              "    <path d=\"M0 0h24v24H0V0z\" fill=\"none\"/>\n",
              "    <path d=\"M18.56 5.44l.94 2.06.94-2.06 2.06-.94-2.06-.94-.94-2.06-.94 2.06-2.06.94zm-11 1L8.5 8.5l.94-2.06 2.06-.94-2.06-.94L8.5 2.5l-.94 2.06-2.06.94zm10 10l.94 2.06.94-2.06 2.06-.94-2.06-.94-.94-2.06-.94 2.06-2.06.94z\"/><path d=\"M17.41 7.96l-1.37-1.37c-.4-.4-.92-.59-1.43-.59-.52 0-1.04.2-1.43.59L10.3 9.45l-7.72 7.72c-.78.78-.78 2.05 0 2.83L4 21.41c.39.39.9.59 1.41.59.51 0 1.02-.2 1.41-.59l7.78-7.78 2.81-2.81c.8-.78.8-2.07 0-2.86zM5.41 20L4 18.59l7.72-7.72 1.47 1.35L5.41 20z\"/>\n",
              "  </svg>\n",
              "      </button>\n",
              "      \n",
              "  <style>\n",
              "    .colab-df-container {\n",
              "      display:flex;\n",
              "      flex-wrap:wrap;\n",
              "      gap: 12px;\n",
              "    }\n",
              "\n",
              "    .colab-df-convert {\n",
              "      background-color: #E8F0FE;\n",
              "      border: none;\n",
              "      border-radius: 50%;\n",
              "      cursor: pointer;\n",
              "      display: none;\n",
              "      fill: #1967D2;\n",
              "      height: 32px;\n",
              "      padding: 0 0 0 0;\n",
              "      width: 32px;\n",
              "    }\n",
              "\n",
              "    .colab-df-convert:hover {\n",
              "      background-color: #E2EBFA;\n",
              "      box-shadow: 0px 1px 2px rgba(60, 64, 67, 0.3), 0px 1px 3px 1px rgba(60, 64, 67, 0.15);\n",
              "      fill: #174EA6;\n",
              "    }\n",
              "\n",
              "    [theme=dark] .colab-df-convert {\n",
              "      background-color: #3B4455;\n",
              "      fill: #D2E3FC;\n",
              "    }\n",
              "\n",
              "    [theme=dark] .colab-df-convert:hover {\n",
              "      background-color: #434B5C;\n",
              "      box-shadow: 0px 1px 3px 1px rgba(0, 0, 0, 0.15);\n",
              "      filter: drop-shadow(0px 1px 2px rgba(0, 0, 0, 0.3));\n",
              "      fill: #FFFFFF;\n",
              "    }\n",
              "  </style>\n",
              "\n",
              "      <script>\n",
              "        const buttonEl =\n",
              "          document.querySelector('#df-6230a729-1b1e-451c-ac18-320a84ed4118 button.colab-df-convert');\n",
              "        buttonEl.style.display =\n",
              "          google.colab.kernel.accessAllowed ? 'block' : 'none';\n",
              "\n",
              "        async function convertToInteractive(key) {\n",
              "          const element = document.querySelector('#df-6230a729-1b1e-451c-ac18-320a84ed4118');\n",
              "          const dataTable =\n",
              "            await google.colab.kernel.invokeFunction('convertToInteractive',\n",
              "                                                     [key], {});\n",
              "          if (!dataTable) return;\n",
              "\n",
              "          const docLinkHtml = 'Like what you see? Visit the ' +\n",
              "            '<a target=\"_blank\" href=https://colab.research.google.com/notebooks/data_table.ipynb>data table notebook</a>'\n",
              "            + ' to learn more about interactive tables.';\n",
              "          element.innerHTML = '';\n",
              "          dataTable['output_type'] = 'display_data';\n",
              "          await google.colab.output.renderOutput(dataTable, element);\n",
              "          const docLink = document.createElement('div');\n",
              "          docLink.innerHTML = docLinkHtml;\n",
              "          element.appendChild(docLink);\n",
              "        }\n",
              "      </script>\n",
              "    </div>\n",
              "  </div>\n",
              "  "
            ]
          },
          "metadata": {},
          "execution_count": 264
        }
      ]
    },
    {
      "cell_type": "code",
      "source": [
        "summary_model(model_2)"
      ],
      "metadata": {
        "colab": {
          "base_uri": "https://localhost:8080/"
        },
        "id": "Nd2l4yP_Hqo9",
        "outputId": "c30e1724-bfb3-4b85-a778-67c10b6b4461"
      },
      "execution_count": null,
      "outputs": [
        {
          "output_type": "stream",
          "name": "stdout",
          "text": [
            "Model: \"sequential_77\"\n",
            "_________________________________________________________________\n",
            " Layer (type)                Output Shape              Param #   \n",
            "=================================================================\n",
            " dense_154 (Dense)           (None, 100)               200       \n",
            "                                                                 \n",
            " dense_155 (Dense)           (None, 1)                 101       \n",
            "                                                                 \n",
            "=================================================================\n",
            "Total params: 301\n",
            "Trainable params: 301\n",
            "Non-trainable params: 0\n",
            "_________________________________________________________________\n"
          ]
        }
      ]
    },
    {
      "cell_type": "markdown",
      "source": [
        "### Tracking your experiments\n",
        "* TensorBoard - helps track modelling expt\n",
        "* Weight and Biases - Expt tracnking, hyperparameter optimization and dataset versioning"
      ],
      "metadata": {
        "id": "FZbwmrDFIza0"
      }
    },
    {
      "cell_type": "code",
      "source": [],
      "metadata": {
        "id": "MSgvKrTVNsKv"
      },
      "execution_count": null,
      "outputs": []
    },
    {
      "cell_type": "markdown",
      "source": [
        "## Saving the models\n",
        "\n",
        "This allows the use of a model outside google colab and used in other applications. \n",
        "\n",
        "The two main model formats for saving are:\n",
        "1. The SavedModel format\n",
        "2. The HDF5 format"
      ],
      "metadata": {
        "id": "FTFBRK4AJnB0"
      }
    },
    {
      "cell_type": "code",
      "source": [
        "# Save model using the SavedModel format\n",
        "model_2.save(\"model_2_SavedModel_format\")"
      ],
      "metadata": {
        "colab": {
          "base_uri": "https://localhost:8080/"
        },
        "id": "lyTwyTeVJ-Qh",
        "outputId": "550414fa-0814-41d8-fb60-f3396a251b7a"
      },
      "execution_count": null,
      "outputs": [
        {
          "output_type": "stream",
          "name": "stderr",
          "text": [
            "WARNING:absl:Found untraced functions such as _update_step_xla while saving (showing 1 of 1). These functions will not be directly callable after loading.\n"
          ]
        }
      ]
    },
    {
      "cell_type": "code",
      "source": [
        "# Save model in the HDF5 format\n",
        "model_2.save(\"model_2.h5\")"
      ],
      "metadata": {
        "id": "g_92JTsCKgFa"
      },
      "execution_count": null,
      "outputs": []
    },
    {
      "cell_type": "markdown",
      "source": [
        "## Loading in a saved model"
      ],
      "metadata": {
        "id": "ce9mGS2gK0Zh"
      }
    },
    {
      "cell_type": "code",
      "source": [
        "# Load in the SavedModel format\n",
        "model_2_sf = tf.keras.models.load_model(\"/content/model_2_SavedModel_format\")"
      ],
      "metadata": {
        "id": "KiKDz4fzLZRH"
      },
      "execution_count": null,
      "outputs": []
    },
    {
      "cell_type": "code",
      "source": [
        "# Compare loaded and model_2 prediction\n",
        "pred_model_2 = model_2.predict(X_test)\n",
        "pred_model_2_sf = model_2_sf.predict(X_test)"
      ],
      "metadata": {
        "colab": {
          "base_uri": "https://localhost:8080/"
        },
        "id": "XDNrmTiILyJZ",
        "outputId": "e18dc0a6-a013-4eab-c473-6147d2d2851b"
      },
      "execution_count": null,
      "outputs": [
        {
          "output_type": "stream",
          "name": "stdout",
          "text": [
            "1/1 [==============================] - 0s 190ms/step\n",
            "1/1 [==============================] - 0s 224ms/step\n"
          ]
        }
      ]
    },
    {
      "cell_type": "code",
      "source": [
        "pred_model_2 == pred_model_2_sf"
      ],
      "metadata": {
        "colab": {
          "base_uri": "https://localhost:8080/"
        },
        "id": "BTKX8LhdL1_p",
        "outputId": "9648175a-e361-4505-d806-258f057c7b6f"
      },
      "execution_count": null,
      "outputs": [
        {
          "output_type": "execute_result",
          "data": {
            "text/plain": [
              "array([[ True],\n",
              "       [ True],\n",
              "       [ True],\n",
              "       [ True],\n",
              "       [ True],\n",
              "       [ True],\n",
              "       [ True],\n",
              "       [ True],\n",
              "       [ True],\n",
              "       [ True]])"
            ]
          },
          "metadata": {},
          "execution_count": 276
        }
      ]
    },
    {
      "cell_type": "code",
      "source": [
        "# Load the HDF5 format\n",
        "model_2_h5 = tf.keras.models.load_model(\"/content/model_2.h5\")"
      ],
      "metadata": {
        "id": "oznsdA7HMcJP"
      },
      "execution_count": null,
      "outputs": []
    },
    {
      "cell_type": "code",
      "source": [
        "model_2_h5.predict(X_test) == pred_model_2"
      ],
      "metadata": {
        "colab": {
          "base_uri": "https://localhost:8080/"
        },
        "id": "Xg2ItLNnM1YX",
        "outputId": "74b2f46f-b749-43c4-9d56-906c27923efb"
      },
      "execution_count": null,
      "outputs": [
        {
          "output_type": "stream",
          "name": "stdout",
          "text": [
            "1/1 [==============================] - 0s 31ms/step\n"
          ]
        },
        {
          "output_type": "execute_result",
          "data": {
            "text/plain": [
              "array([[ True],\n",
              "       [ True],\n",
              "       [ True],\n",
              "       [ True],\n",
              "       [ True],\n",
              "       [ True],\n",
              "       [ True],\n",
              "       [ True],\n",
              "       [ True],\n",
              "       [ True]])"
            ]
          },
          "metadata": {},
          "execution_count": 285
        }
      ]
    },
    {
      "cell_type": "markdown",
      "source": [
        "## Download the model\n",
        "\n",
        "1. Download from files tab\n",
        "2. Use code"
      ],
      "metadata": {
        "id": "CbG3qM_sM6h3"
      }
    },
    {
      "cell_type": "code",
      "source": [
        "# Download a file from Colab\n",
        "from google.colab import files\n",
        "files.download(\"/content/model_2.h5\")"
      ],
      "metadata": {
        "colab": {
          "base_uri": "https://localhost:8080/",
          "height": 17
        },
        "id": "zLRtaQ_hOZC0",
        "outputId": "e99c8060-76bd-44b8-90cc-79fccde0beeb"
      },
      "execution_count": null,
      "outputs": [
        {
          "output_type": "display_data",
          "data": {
            "text/plain": [
              "<IPython.core.display.Javascript object>"
            ],
            "application/javascript": [
              "\n",
              "    async function download(id, filename, size) {\n",
              "      if (!google.colab.kernel.accessAllowed) {\n",
              "        return;\n",
              "      }\n",
              "      const div = document.createElement('div');\n",
              "      const label = document.createElement('label');\n",
              "      label.textContent = `Downloading \"${filename}\": `;\n",
              "      div.appendChild(label);\n",
              "      const progress = document.createElement('progress');\n",
              "      progress.max = size;\n",
              "      div.appendChild(progress);\n",
              "      document.body.appendChild(div);\n",
              "\n",
              "      const buffers = [];\n",
              "      let downloaded = 0;\n",
              "\n",
              "      const channel = await google.colab.kernel.comms.open(id);\n",
              "      // Send a message to notify the kernel that we're ready.\n",
              "      channel.send({})\n",
              "\n",
              "      for await (const message of channel.messages) {\n",
              "        // Send a message to notify the kernel that we're ready.\n",
              "        channel.send({})\n",
              "        if (message.buffers) {\n",
              "          for (const buffer of message.buffers) {\n",
              "            buffers.push(buffer);\n",
              "            downloaded += buffer.byteLength;\n",
              "            progress.value = downloaded;\n",
              "          }\n",
              "        }\n",
              "      }\n",
              "      const blob = new Blob(buffers, {type: 'application/binary'});\n",
              "      const a = document.createElement('a');\n",
              "      a.href = window.URL.createObjectURL(blob);\n",
              "      a.download = filename;\n",
              "      div.appendChild(a);\n",
              "      a.click();\n",
              "      div.remove();\n",
              "    }\n",
              "  "
            ]
          },
          "metadata": {}
        },
        {
          "output_type": "display_data",
          "data": {
            "text/plain": [
              "<IPython.core.display.Javascript object>"
            ],
            "application/javascript": [
              "download(\"download_7d3d77b1-165c-4053-ab6f-dded399467bb\", \"model_2.h5\", 16672)"
            ]
          },
          "metadata": {}
        }
      ]
    },
    {
      "cell_type": "markdown",
      "source": [
        "## Practical example"
      ],
      "metadata": {
        "id": "CPrXJ1rmOcXc"
      }
    },
    {
      "cell_type": "code",
      "source": [
        "# Import the required libraries\n",
        "import tensorflow as tf\n",
        "import pandas as pd\n",
        "import matplotlib.pyplot as plt\n",
        "import numpy as np\n"
      ],
      "metadata": {
        "id": "SwiqcPbn39B4"
      },
      "execution_count": null,
      "outputs": []
    },
    {
      "cell_type": "code",
      "source": [
        "# Read csv data\n",
        "data = pd.read_csv(\"https://raw.githubusercontent.com/stedy/Machine-Learning-with-R-datasets/master/insurance.csv\")"
      ],
      "metadata": {
        "id": "LslZzJyN5Mc9"
      },
      "execution_count": null,
      "outputs": []
    },
    {
      "cell_type": "code",
      "source": [
        "data.head()"
      ],
      "metadata": {
        "colab": {
          "base_uri": "https://localhost:8080/",
          "height": 206
        },
        "id": "NkXrXSnK5Rx2",
        "outputId": "d7433ce7-9211-4339-bedc-8b1e17f963a9"
      },
      "execution_count": null,
      "outputs": [
        {
          "output_type": "execute_result",
          "data": {
            "text/plain": [
              "   age     sex     bmi  children smoker     region      charges\n",
              "0   19  female  27.900         0    yes  southwest  16884.92400\n",
              "1   18    male  33.770         1     no  southeast   1725.55230\n",
              "2   28    male  33.000         3     no  southeast   4449.46200\n",
              "3   33    male  22.705         0     no  northwest  21984.47061\n",
              "4   32    male  28.880         0     no  northwest   3866.85520"
            ],
            "text/html": [
              "\n",
              "  <div id=\"df-93dc13dc-e5eb-4732-b5c0-58804f4139a0\">\n",
              "    <div class=\"colab-df-container\">\n",
              "      <div>\n",
              "<style scoped>\n",
              "    .dataframe tbody tr th:only-of-type {\n",
              "        vertical-align: middle;\n",
              "    }\n",
              "\n",
              "    .dataframe tbody tr th {\n",
              "        vertical-align: top;\n",
              "    }\n",
              "\n",
              "    .dataframe thead th {\n",
              "        text-align: right;\n",
              "    }\n",
              "</style>\n",
              "<table border=\"1\" class=\"dataframe\">\n",
              "  <thead>\n",
              "    <tr style=\"text-align: right;\">\n",
              "      <th></th>\n",
              "      <th>age</th>\n",
              "      <th>sex</th>\n",
              "      <th>bmi</th>\n",
              "      <th>children</th>\n",
              "      <th>smoker</th>\n",
              "      <th>region</th>\n",
              "      <th>charges</th>\n",
              "    </tr>\n",
              "  </thead>\n",
              "  <tbody>\n",
              "    <tr>\n",
              "      <th>0</th>\n",
              "      <td>19</td>\n",
              "      <td>female</td>\n",
              "      <td>27.900</td>\n",
              "      <td>0</td>\n",
              "      <td>yes</td>\n",
              "      <td>southwest</td>\n",
              "      <td>16884.92400</td>\n",
              "    </tr>\n",
              "    <tr>\n",
              "      <th>1</th>\n",
              "      <td>18</td>\n",
              "      <td>male</td>\n",
              "      <td>33.770</td>\n",
              "      <td>1</td>\n",
              "      <td>no</td>\n",
              "      <td>southeast</td>\n",
              "      <td>1725.55230</td>\n",
              "    </tr>\n",
              "    <tr>\n",
              "      <th>2</th>\n",
              "      <td>28</td>\n",
              "      <td>male</td>\n",
              "      <td>33.000</td>\n",
              "      <td>3</td>\n",
              "      <td>no</td>\n",
              "      <td>southeast</td>\n",
              "      <td>4449.46200</td>\n",
              "    </tr>\n",
              "    <tr>\n",
              "      <th>3</th>\n",
              "      <td>33</td>\n",
              "      <td>male</td>\n",
              "      <td>22.705</td>\n",
              "      <td>0</td>\n",
              "      <td>no</td>\n",
              "      <td>northwest</td>\n",
              "      <td>21984.47061</td>\n",
              "    </tr>\n",
              "    <tr>\n",
              "      <th>4</th>\n",
              "      <td>32</td>\n",
              "      <td>male</td>\n",
              "      <td>28.880</td>\n",
              "      <td>0</td>\n",
              "      <td>no</td>\n",
              "      <td>northwest</td>\n",
              "      <td>3866.85520</td>\n",
              "    </tr>\n",
              "  </tbody>\n",
              "</table>\n",
              "</div>\n",
              "      <button class=\"colab-df-convert\" onclick=\"convertToInteractive('df-93dc13dc-e5eb-4732-b5c0-58804f4139a0')\"\n",
              "              title=\"Convert this dataframe to an interactive table.\"\n",
              "              style=\"display:none;\">\n",
              "        \n",
              "  <svg xmlns=\"http://www.w3.org/2000/svg\" height=\"24px\"viewBox=\"0 0 24 24\"\n",
              "       width=\"24px\">\n",
              "    <path d=\"M0 0h24v24H0V0z\" fill=\"none\"/>\n",
              "    <path d=\"M18.56 5.44l.94 2.06.94-2.06 2.06-.94-2.06-.94-.94-2.06-.94 2.06-2.06.94zm-11 1L8.5 8.5l.94-2.06 2.06-.94-2.06-.94L8.5 2.5l-.94 2.06-2.06.94zm10 10l.94 2.06.94-2.06 2.06-.94-2.06-.94-.94-2.06-.94 2.06-2.06.94z\"/><path d=\"M17.41 7.96l-1.37-1.37c-.4-.4-.92-.59-1.43-.59-.52 0-1.04.2-1.43.59L10.3 9.45l-7.72 7.72c-.78.78-.78 2.05 0 2.83L4 21.41c.39.39.9.59 1.41.59.51 0 1.02-.2 1.41-.59l7.78-7.78 2.81-2.81c.8-.78.8-2.07 0-2.86zM5.41 20L4 18.59l7.72-7.72 1.47 1.35L5.41 20z\"/>\n",
              "  </svg>\n",
              "      </button>\n",
              "      \n",
              "  <style>\n",
              "    .colab-df-container {\n",
              "      display:flex;\n",
              "      flex-wrap:wrap;\n",
              "      gap: 12px;\n",
              "    }\n",
              "\n",
              "    .colab-df-convert {\n",
              "      background-color: #E8F0FE;\n",
              "      border: none;\n",
              "      border-radius: 50%;\n",
              "      cursor: pointer;\n",
              "      display: none;\n",
              "      fill: #1967D2;\n",
              "      height: 32px;\n",
              "      padding: 0 0 0 0;\n",
              "      width: 32px;\n",
              "    }\n",
              "\n",
              "    .colab-df-convert:hover {\n",
              "      background-color: #E2EBFA;\n",
              "      box-shadow: 0px 1px 2px rgba(60, 64, 67, 0.3), 0px 1px 3px 1px rgba(60, 64, 67, 0.15);\n",
              "      fill: #174EA6;\n",
              "    }\n",
              "\n",
              "    [theme=dark] .colab-df-convert {\n",
              "      background-color: #3B4455;\n",
              "      fill: #D2E3FC;\n",
              "    }\n",
              "\n",
              "    [theme=dark] .colab-df-convert:hover {\n",
              "      background-color: #434B5C;\n",
              "      box-shadow: 0px 1px 3px 1px rgba(0, 0, 0, 0.15);\n",
              "      filter: drop-shadow(0px 1px 2px rgba(0, 0, 0, 0.3));\n",
              "      fill: #FFFFFF;\n",
              "    }\n",
              "  </style>\n",
              "\n",
              "      <script>\n",
              "        const buttonEl =\n",
              "          document.querySelector('#df-93dc13dc-e5eb-4732-b5c0-58804f4139a0 button.colab-df-convert');\n",
              "        buttonEl.style.display =\n",
              "          google.colab.kernel.accessAllowed ? 'block' : 'none';\n",
              "\n",
              "        async function convertToInteractive(key) {\n",
              "          const element = document.querySelector('#df-93dc13dc-e5eb-4732-b5c0-58804f4139a0');\n",
              "          const dataTable =\n",
              "            await google.colab.kernel.invokeFunction('convertToInteractive',\n",
              "                                                     [key], {});\n",
              "          if (!dataTable) return;\n",
              "\n",
              "          const docLinkHtml = 'Like what you see? Visit the ' +\n",
              "            '<a target=\"_blank\" href=https://colab.research.google.com/notebooks/data_table.ipynb>data table notebook</a>'\n",
              "            + ' to learn more about interactive tables.';\n",
              "          element.innerHTML = '';\n",
              "          dataTable['output_type'] = 'display_data';\n",
              "          await google.colab.output.renderOutput(dataTable, element);\n",
              "          const docLink = document.createElement('div');\n",
              "          docLink.innerHTML = docLinkHtml;\n",
              "          element.appendChild(docLink);\n",
              "        }\n",
              "      </script>\n",
              "    </div>\n",
              "  </div>\n",
              "  "
            ]
          },
          "metadata": {},
          "execution_count": 73
        }
      ]
    },
    {
      "cell_type": "code",
      "source": [
        "# My function to convert catagories into numbers\n",
        "def convert_to_number(data = data, column_name = ''):\n",
        "  choice = list(set(data[column_name]))\n",
        "  choice = {choice[i]:i for i in range(len(choice))}\n",
        "  data[column_name+\"_num\"] = [choice[i] for i in data[column_name]]\n",
        "  return data\n",
        "new_data = data\n",
        "for i in data:\n",
        "  if data[i].dtype == 'object':\n",
        "    new_data = convert_to_number(column_name = i)\n",
        "\n",
        "new_data.head()\n",
        "\n",
        "# My way of splitting data into train and test sets\n",
        "from tensorflow.python.ops.math_ops import floor\n",
        "X_train, y_train = X_tf[:int(floor(0.8*len(X_tf)).numpy())], y[:int(floor(0.8*len(y)).numpy())]\n",
        "X_test, y_test = X_tf[int(floor(0.8*len(X_tf)).numpy()):], y[int(floor(0.8*len(y)).numpy()):]"
      ],
      "metadata": {
        "id": "IfUvogg85XEl"
      },
      "execution_count": null,
      "outputs": []
    },
    {
      "cell_type": "code",
      "source": [
        "# Get the data \n",
        "data = pd.get_dummies(data)\n",
        "data.head()\n",
        "X = data.drop(\"charges\", axis = 1)\n",
        "y = data[\"charges\"]\n"
      ],
      "metadata": {
        "colab": {
          "base_uri": "https://localhost:8080/",
          "height": 270
        },
        "id": "K5WC60KC5jxz",
        "outputId": "eeb5d48f-5a81-40f4-ee31-b96b81d4b2b4"
      },
      "execution_count": null,
      "outputs": [
        {
          "output_type": "execute_result",
          "data": {
            "text/plain": [
              "        age       bmi  children  sex_female  sex_male  smoker_no  smoker_yes  \\\n",
              "0  0.484607  0.909880         0           1         0          0           1   \n",
              "1  0.459101  1.101313         1           0         1          1           0   \n",
              "2  0.714158  1.076202         3           0         1          1           0   \n",
              "3  0.841686  0.740459         0           0         1          1           0   \n",
              "4  0.816180  0.941840         0           0         1          1           0   \n",
              "\n",
              "   region_northeast  region_northwest  region_southeast  region_southwest  \n",
              "0                 0                 0                 0                 1  \n",
              "1                 0                 0                 1                 0  \n",
              "2                 0                 0                 1                 0  \n",
              "3                 0                 1                 0                 0  \n",
              "4                 0                 1                 0                 0  "
            ],
            "text/html": [
              "\n",
              "  <div id=\"df-719ecf17-2596-42aa-bf2a-21f75ef3fbf1\">\n",
              "    <div class=\"colab-df-container\">\n",
              "      <div>\n",
              "<style scoped>\n",
              "    .dataframe tbody tr th:only-of-type {\n",
              "        vertical-align: middle;\n",
              "    }\n",
              "\n",
              "    .dataframe tbody tr th {\n",
              "        vertical-align: top;\n",
              "    }\n",
              "\n",
              "    .dataframe thead th {\n",
              "        text-align: right;\n",
              "    }\n",
              "</style>\n",
              "<table border=\"1\" class=\"dataframe\">\n",
              "  <thead>\n",
              "    <tr style=\"text-align: right;\">\n",
              "      <th></th>\n",
              "      <th>age</th>\n",
              "      <th>bmi</th>\n",
              "      <th>children</th>\n",
              "      <th>sex_female</th>\n",
              "      <th>sex_male</th>\n",
              "      <th>smoker_no</th>\n",
              "      <th>smoker_yes</th>\n",
              "      <th>region_northeast</th>\n",
              "      <th>region_northwest</th>\n",
              "      <th>region_southeast</th>\n",
              "      <th>region_southwest</th>\n",
              "    </tr>\n",
              "  </thead>\n",
              "  <tbody>\n",
              "    <tr>\n",
              "      <th>0</th>\n",
              "      <td>0.484607</td>\n",
              "      <td>0.909880</td>\n",
              "      <td>0</td>\n",
              "      <td>1</td>\n",
              "      <td>0</td>\n",
              "      <td>0</td>\n",
              "      <td>1</td>\n",
              "      <td>0</td>\n",
              "      <td>0</td>\n",
              "      <td>0</td>\n",
              "      <td>1</td>\n",
              "    </tr>\n",
              "    <tr>\n",
              "      <th>1</th>\n",
              "      <td>0.459101</td>\n",
              "      <td>1.101313</td>\n",
              "      <td>1</td>\n",
              "      <td>0</td>\n",
              "      <td>1</td>\n",
              "      <td>1</td>\n",
              "      <td>0</td>\n",
              "      <td>0</td>\n",
              "      <td>0</td>\n",
              "      <td>1</td>\n",
              "      <td>0</td>\n",
              "    </tr>\n",
              "    <tr>\n",
              "      <th>2</th>\n",
              "      <td>0.714158</td>\n",
              "      <td>1.076202</td>\n",
              "      <td>3</td>\n",
              "      <td>0</td>\n",
              "      <td>1</td>\n",
              "      <td>1</td>\n",
              "      <td>0</td>\n",
              "      <td>0</td>\n",
              "      <td>0</td>\n",
              "      <td>1</td>\n",
              "      <td>0</td>\n",
              "    </tr>\n",
              "    <tr>\n",
              "      <th>3</th>\n",
              "      <td>0.841686</td>\n",
              "      <td>0.740459</td>\n",
              "      <td>0</td>\n",
              "      <td>0</td>\n",
              "      <td>1</td>\n",
              "      <td>1</td>\n",
              "      <td>0</td>\n",
              "      <td>0</td>\n",
              "      <td>1</td>\n",
              "      <td>0</td>\n",
              "      <td>0</td>\n",
              "    </tr>\n",
              "    <tr>\n",
              "      <th>4</th>\n",
              "      <td>0.816180</td>\n",
              "      <td>0.941840</td>\n",
              "      <td>0</td>\n",
              "      <td>0</td>\n",
              "      <td>1</td>\n",
              "      <td>1</td>\n",
              "      <td>0</td>\n",
              "      <td>0</td>\n",
              "      <td>1</td>\n",
              "      <td>0</td>\n",
              "      <td>0</td>\n",
              "    </tr>\n",
              "  </tbody>\n",
              "</table>\n",
              "</div>\n",
              "      <button class=\"colab-df-convert\" onclick=\"convertToInteractive('df-719ecf17-2596-42aa-bf2a-21f75ef3fbf1')\"\n",
              "              title=\"Convert this dataframe to an interactive table.\"\n",
              "              style=\"display:none;\">\n",
              "        \n",
              "  <svg xmlns=\"http://www.w3.org/2000/svg\" height=\"24px\"viewBox=\"0 0 24 24\"\n",
              "       width=\"24px\">\n",
              "    <path d=\"M0 0h24v24H0V0z\" fill=\"none\"/>\n",
              "    <path d=\"M18.56 5.44l.94 2.06.94-2.06 2.06-.94-2.06-.94-.94-2.06-.94 2.06-2.06.94zm-11 1L8.5 8.5l.94-2.06 2.06-.94-2.06-.94L8.5 2.5l-.94 2.06-2.06.94zm10 10l.94 2.06.94-2.06 2.06-.94-2.06-.94-.94-2.06-.94 2.06-2.06.94z\"/><path d=\"M17.41 7.96l-1.37-1.37c-.4-.4-.92-.59-1.43-.59-.52 0-1.04.2-1.43.59L10.3 9.45l-7.72 7.72c-.78.78-.78 2.05 0 2.83L4 21.41c.39.39.9.59 1.41.59.51 0 1.02-.2 1.41-.59l7.78-7.78 2.81-2.81c.8-.78.8-2.07 0-2.86zM5.41 20L4 18.59l7.72-7.72 1.47 1.35L5.41 20z\"/>\n",
              "  </svg>\n",
              "      </button>\n",
              "      \n",
              "  <style>\n",
              "    .colab-df-container {\n",
              "      display:flex;\n",
              "      flex-wrap:wrap;\n",
              "      gap: 12px;\n",
              "    }\n",
              "\n",
              "    .colab-df-convert {\n",
              "      background-color: #E8F0FE;\n",
              "      border: none;\n",
              "      border-radius: 50%;\n",
              "      cursor: pointer;\n",
              "      display: none;\n",
              "      fill: #1967D2;\n",
              "      height: 32px;\n",
              "      padding: 0 0 0 0;\n",
              "      width: 32px;\n",
              "    }\n",
              "\n",
              "    .colab-df-convert:hover {\n",
              "      background-color: #E2EBFA;\n",
              "      box-shadow: 0px 1px 2px rgba(60, 64, 67, 0.3), 0px 1px 3px 1px rgba(60, 64, 67, 0.15);\n",
              "      fill: #174EA6;\n",
              "    }\n",
              "\n",
              "    [theme=dark] .colab-df-convert {\n",
              "      background-color: #3B4455;\n",
              "      fill: #D2E3FC;\n",
              "    }\n",
              "\n",
              "    [theme=dark] .colab-df-convert:hover {\n",
              "      background-color: #434B5C;\n",
              "      box-shadow: 0px 1px 3px 1px rgba(0, 0, 0, 0.15);\n",
              "      filter: drop-shadow(0px 1px 2px rgba(0, 0, 0, 0.3));\n",
              "      fill: #FFFFFF;\n",
              "    }\n",
              "  </style>\n",
              "\n",
              "      <script>\n",
              "        const buttonEl =\n",
              "          document.querySelector('#df-719ecf17-2596-42aa-bf2a-21f75ef3fbf1 button.colab-df-convert');\n",
              "        buttonEl.style.display =\n",
              "          google.colab.kernel.accessAllowed ? 'block' : 'none';\n",
              "\n",
              "        async function convertToInteractive(key) {\n",
              "          const element = document.querySelector('#df-719ecf17-2596-42aa-bf2a-21f75ef3fbf1');\n",
              "          const dataTable =\n",
              "            await google.colab.kernel.invokeFunction('convertToInteractive',\n",
              "                                                     [key], {});\n",
              "          if (!dataTable) return;\n",
              "\n",
              "          const docLinkHtml = 'Like what you see? Visit the ' +\n",
              "            '<a target=\"_blank\" href=https://colab.research.google.com/notebooks/data_table.ipynb>data table notebook</a>'\n",
              "            + ' to learn more about interactive tables.';\n",
              "          element.innerHTML = '';\n",
              "          dataTable['output_type'] = 'display_data';\n",
              "          await google.colab.output.renderOutput(dataTable, element);\n",
              "          const docLink = document.createElement('div');\n",
              "          docLink.innerHTML = docLinkHtml;\n",
              "          element.appendChild(docLink);\n",
              "        }\n",
              "      </script>\n",
              "    </div>\n",
              "  </div>\n",
              "  "
            ]
          },
          "metadata": {},
          "execution_count": 111
        }
      ]
    },
    {
      "cell_type": "markdown",
      "source": [
        "## Preprocessing data"
      ],
      "metadata": {
        "id": "gMQeSATVSXqN"
      }
    },
    {
      "cell_type": "code",
      "source": [
        "# Normalizing data using mean normalization\n",
        "X[\"age\"] = X[\"age\"] / np.mean(X[\"age\"])\n",
        "X[\"bmi\"] = X[\"bmi\"] / np.mean(X[\"bmi\"])\n",
        "y_norm = np.mean(y)\n",
        "y = y / y_norm\n",
        "X.head()\n",
        "\n"
      ],
      "metadata": {
        "id": "yqcFscqKSb_D"
      },
      "execution_count": null,
      "outputs": []
    },
    {
      "cell_type": "code",
      "source": [
        "import pandas as pd\n",
        "import matplotlib.pyplot as plt\n",
        "import tensorflow as tf\n",
        "\n",
        "insurance_data = pd.read_csv(\"https://raw.githubusercontent.com/stedy/Machine-Learning-with-R-datasets/master/insurance.csv\")"
      ],
      "metadata": {
        "id": "h4tcViWlSlPn"
      },
      "execution_count": null,
      "outputs": []
    },
    {
      "cell_type": "code",
      "source": [
        "from sklearn.compose import make_column_transformer\n",
        "from sklearn.preprocessing import MinMaxScaler, OneHotEncoder\n",
        "\n",
        "# Make a colum transformer\n",
        "ct = make_column_transformer((MinMaxScaler(), [\"age\", \"bmi\", \"children\"]), # Turn all values in these columns between 0 and 1\n",
        "    (OneHotEncoder(handle_unknown=\"ignore\"), ['sex', \"smoker\", \"region\"])\n",
        ")\n",
        "\n",
        "# Create X and y\n",
        "X = insurance_data.drop(\"charges\", axis = 1)\n",
        "y = insurance_data[\"charges\"]\n",
        "\n",
        "# Build our train and test sets\n",
        "X_train, X_test, y_train, y_test = train_test_split(X, y, test_size = 0.2, random_state = 42)\n",
        "\n",
        "# Fit column transformer to our training data\n",
        "ct.fit(X_train)\n",
        "\n",
        "# Transform training and test data with normalization (MinMaxScalar) and OneHotEncoder\n",
        "X_train_normal = ct.transform(X_train)\n",
        "X_test_normal = ct.transform(X_test)"
      ],
      "metadata": {
        "id": "Yj0u7t_jTIsh"
      },
      "execution_count": null,
      "outputs": []
    },
    {
      "cell_type": "code",
      "source": [
        "X_train_normal.shape"
      ],
      "metadata": {
        "colab": {
          "base_uri": "https://localhost:8080/"
        },
        "id": "ddryTQwVU21s",
        "outputId": "ab3e929a-9056-4dfa-ae75-76afc203e12e"
      },
      "execution_count": null,
      "outputs": [
        {
          "output_type": "execute_result",
          "data": {
            "text/plain": [
              "(1070, 11)"
            ]
          },
          "metadata": {},
          "execution_count": 166
        }
      ]
    },
    {
      "cell_type": "code",
      "source": [
        "# Build a neural network to fit out normalized data\n",
        "\n",
        "insurance_model = tf.keras.Sequential([\n",
        "    tf.keras.layers.Dense(100, activation =\"relu\"),\n",
        "    tf.keras.layers.Dense(10, activation= \"relu\"),\n",
        "    tf.keras.layers.Dense(1)\n",
        "])\n",
        "\n",
        "# Compile the model\n",
        "insurance_model.compile(loss=\"MAE\",\n",
        "                        optimizer = \"Adam\",\n",
        "                        metrics = [\"mae\"])\n",
        "\n",
        "\n",
        "callback = tf.keras.callbacks.EarlyStopping(monitor = \"loss\", patience = 10)\n",
        "history = insurance_model.fit(X_train_normal, y_train, epochs = 300, callbacks = [callback])"
      ],
      "metadata": {
        "colab": {
          "base_uri": "https://localhost:8080/"
        },
        "id": "Capxk_f1Vtx_",
        "outputId": "b1df4f69-5b5f-40b8-ab0e-0acc4adf02f9"
      },
      "execution_count": null,
      "outputs": [
        {
          "output_type": "stream",
          "name": "stdout",
          "text": [
            "Epoch 1/300\n",
            "34/34 [==============================] - 1s 2ms/step - loss: 13346.0107 - mae: 13346.0107\n",
            "Epoch 2/300\n",
            "34/34 [==============================] - 0s 2ms/step - loss: 13345.2861 - mae: 13345.2861\n",
            "Epoch 3/300\n",
            "34/34 [==============================] - 0s 2ms/step - loss: 13343.0293 - mae: 13343.0293\n",
            "Epoch 4/300\n",
            "34/34 [==============================] - 0s 2ms/step - loss: 13336.7881 - mae: 13336.7881\n",
            "Epoch 5/300\n",
            "34/34 [==============================] - 0s 2ms/step - loss: 13323.4814 - mae: 13323.4814\n",
            "Epoch 6/300\n",
            "34/34 [==============================] - 0s 2ms/step - loss: 13300.2715 - mae: 13300.2715\n",
            "Epoch 7/300\n",
            "34/34 [==============================] - 0s 2ms/step - loss: 13263.9707 - mae: 13263.9707\n",
            "Epoch 8/300\n",
            "34/34 [==============================] - 0s 2ms/step - loss: 13211.0342 - mae: 13211.0342\n",
            "Epoch 9/300\n",
            "34/34 [==============================] - 0s 2ms/step - loss: 13138.6309 - mae: 13138.6309\n",
            "Epoch 10/300\n",
            "34/34 [==============================] - 0s 2ms/step - loss: 13044.3584 - mae: 13044.3584\n",
            "Epoch 11/300\n",
            "34/34 [==============================] - 0s 2ms/step - loss: 12925.7236 - mae: 12925.7236\n",
            "Epoch 12/300\n",
            "34/34 [==============================] - 0s 2ms/step - loss: 12780.6543 - mae: 12780.6543\n",
            "Epoch 13/300\n",
            "34/34 [==============================] - 0s 2ms/step - loss: 12606.5059 - mae: 12606.5059\n",
            "Epoch 14/300\n",
            "34/34 [==============================] - 0s 2ms/step - loss: 12401.4238 - mae: 12401.4238\n",
            "Epoch 15/300\n",
            "34/34 [==============================] - 0s 2ms/step - loss: 12163.4492 - mae: 12163.4492\n",
            "Epoch 16/300\n",
            "34/34 [==============================] - 0s 2ms/step - loss: 11894.6465 - mae: 11894.6465\n",
            "Epoch 17/300\n",
            "34/34 [==============================] - 0s 2ms/step - loss: 11597.5371 - mae: 11597.5371\n",
            "Epoch 18/300\n",
            "34/34 [==============================] - 0s 2ms/step - loss: 11282.4727 - mae: 11282.4727\n",
            "Epoch 19/300\n",
            "34/34 [==============================] - 0s 2ms/step - loss: 10968.1045 - mae: 10968.1045\n",
            "Epoch 20/300\n",
            "34/34 [==============================] - 0s 2ms/step - loss: 10659.7568 - mae: 10659.7568\n",
            "Epoch 21/300\n",
            "34/34 [==============================] - 0s 2ms/step - loss: 10347.2646 - mae: 10347.2646\n",
            "Epoch 22/300\n",
            "34/34 [==============================] - 0s 3ms/step - loss: 10039.1963 - mae: 10039.1963\n",
            "Epoch 23/300\n",
            "34/34 [==============================] - 0s 2ms/step - loss: 9740.6113 - mae: 9740.6113\n",
            "Epoch 24/300\n",
            "34/34 [==============================] - 0s 2ms/step - loss: 9455.9238 - mae: 9455.9238\n",
            "Epoch 25/300\n",
            "34/34 [==============================] - 0s 2ms/step - loss: 9197.2510 - mae: 9197.2510\n",
            "Epoch 26/300\n",
            "34/34 [==============================] - 0s 2ms/step - loss: 8961.6729 - mae: 8961.6729\n",
            "Epoch 27/300\n",
            "34/34 [==============================] - 0s 2ms/step - loss: 8753.5098 - mae: 8753.5098\n",
            "Epoch 28/300\n",
            "34/34 [==============================] - 0s 2ms/step - loss: 8575.6006 - mae: 8575.6006\n",
            "Epoch 29/300\n",
            "34/34 [==============================] - 0s 2ms/step - loss: 8414.8730 - mae: 8414.8730\n",
            "Epoch 30/300\n",
            "34/34 [==============================] - 0s 2ms/step - loss: 8288.3613 - mae: 8288.3613\n",
            "Epoch 31/300\n",
            "34/34 [==============================] - 0s 2ms/step - loss: 8182.4663 - mae: 8182.4663\n",
            "Epoch 32/300\n",
            "34/34 [==============================] - 0s 2ms/step - loss: 8094.5000 - mae: 8094.5000\n",
            "Epoch 33/300\n",
            "34/34 [==============================] - 0s 2ms/step - loss: 8022.9644 - mae: 8022.9644\n",
            "Epoch 34/300\n",
            "34/34 [==============================] - 0s 2ms/step - loss: 7965.8384 - mae: 7965.8384\n",
            "Epoch 35/300\n",
            "34/34 [==============================] - 0s 2ms/step - loss: 7916.7412 - mae: 7916.7412\n",
            "Epoch 36/300\n",
            "34/34 [==============================] - 0s 2ms/step - loss: 7875.8516 - mae: 7875.8516\n",
            "Epoch 37/300\n",
            "34/34 [==============================] - 0s 2ms/step - loss: 7840.9316 - mae: 7840.9316\n",
            "Epoch 38/300\n",
            "34/34 [==============================] - 0s 2ms/step - loss: 7807.9912 - mae: 7807.9912\n",
            "Epoch 39/300\n",
            "34/34 [==============================] - 0s 2ms/step - loss: 7778.9614 - mae: 7778.9614\n",
            "Epoch 40/300\n",
            "34/34 [==============================] - 0s 2ms/step - loss: 7751.3701 - mae: 7751.3701\n",
            "Epoch 41/300\n",
            "34/34 [==============================] - 0s 2ms/step - loss: 7723.0068 - mae: 7723.0068\n",
            "Epoch 42/300\n",
            "34/34 [==============================] - 0s 2ms/step - loss: 7695.1196 - mae: 7695.1196\n",
            "Epoch 43/300\n",
            "34/34 [==============================] - 0s 2ms/step - loss: 7667.2759 - mae: 7667.2759\n",
            "Epoch 44/300\n",
            "34/34 [==============================] - 0s 2ms/step - loss: 7640.3652 - mae: 7640.3652\n",
            "Epoch 45/300\n",
            "34/34 [==============================] - 0s 2ms/step - loss: 7613.6499 - mae: 7613.6499\n",
            "Epoch 46/300\n",
            "34/34 [==============================] - 0s 2ms/step - loss: 7587.0908 - mae: 7587.0908\n",
            "Epoch 47/300\n",
            "34/34 [==============================] - 0s 2ms/step - loss: 7559.7856 - mae: 7559.7856\n",
            "Epoch 48/300\n",
            "34/34 [==============================] - 0s 2ms/step - loss: 7532.2617 - mae: 7532.2617\n",
            "Epoch 49/300\n",
            "34/34 [==============================] - 0s 2ms/step - loss: 7505.2261 - mae: 7505.2261\n",
            "Epoch 50/300\n",
            "34/34 [==============================] - 0s 2ms/step - loss: 7476.9966 - mae: 7476.9966\n",
            "Epoch 51/300\n",
            "34/34 [==============================] - 0s 2ms/step - loss: 7449.7773 - mae: 7449.7773\n",
            "Epoch 52/300\n",
            "34/34 [==============================] - 0s 3ms/step - loss: 7421.0972 - mae: 7421.0972\n",
            "Epoch 53/300\n",
            "34/34 [==============================] - 0s 3ms/step - loss: 7392.2485 - mae: 7392.2485\n",
            "Epoch 54/300\n",
            "34/34 [==============================] - 0s 3ms/step - loss: 7364.0322 - mae: 7364.0322\n",
            "Epoch 55/300\n",
            "34/34 [==============================] - 0s 3ms/step - loss: 7333.1050 - mae: 7333.1050\n",
            "Epoch 56/300\n",
            "34/34 [==============================] - 0s 3ms/step - loss: 7303.1377 - mae: 7303.1377\n",
            "Epoch 57/300\n",
            "34/34 [==============================] - 0s 3ms/step - loss: 7273.0063 - mae: 7273.0063\n",
            "Epoch 58/300\n",
            "34/34 [==============================] - 0s 3ms/step - loss: 7241.2949 - mae: 7241.2949\n",
            "Epoch 59/300\n",
            "34/34 [==============================] - 0s 3ms/step - loss: 7210.1699 - mae: 7210.1699\n",
            "Epoch 60/300\n",
            "34/34 [==============================] - 0s 3ms/step - loss: 7177.6743 - mae: 7177.6743\n",
            "Epoch 61/300\n",
            "34/34 [==============================] - 0s 3ms/step - loss: 7143.3755 - mae: 7143.3755\n",
            "Epoch 62/300\n",
            "34/34 [==============================] - 0s 3ms/step - loss: 7109.5908 - mae: 7109.5908\n",
            "Epoch 63/300\n",
            "34/34 [==============================] - 0s 3ms/step - loss: 7075.5381 - mae: 7075.5381\n",
            "Epoch 64/300\n",
            "34/34 [==============================] - 0s 3ms/step - loss: 7040.6841 - mae: 7040.6841\n",
            "Epoch 65/300\n",
            "34/34 [==============================] - 0s 3ms/step - loss: 7004.1436 - mae: 7004.1436\n",
            "Epoch 66/300\n",
            "34/34 [==============================] - 0s 3ms/step - loss: 6967.1680 - mae: 6967.1680\n",
            "Epoch 67/300\n",
            "34/34 [==============================] - 0s 3ms/step - loss: 6930.6304 - mae: 6930.6304\n",
            "Epoch 68/300\n",
            "34/34 [==============================] - 0s 3ms/step - loss: 6892.1470 - mae: 6892.1470\n",
            "Epoch 69/300\n",
            "34/34 [==============================] - 0s 3ms/step - loss: 6851.9302 - mae: 6851.9302\n",
            "Epoch 70/300\n",
            "34/34 [==============================] - 0s 3ms/step - loss: 6811.9224 - mae: 6811.9224\n",
            "Epoch 71/300\n",
            "34/34 [==============================] - 0s 3ms/step - loss: 6770.9341 - mae: 6770.9341\n",
            "Epoch 72/300\n",
            "34/34 [==============================] - 0s 3ms/step - loss: 6729.0967 - mae: 6729.0967\n",
            "Epoch 73/300\n",
            "34/34 [==============================] - 0s 3ms/step - loss: 6685.8574 - mae: 6685.8574\n",
            "Epoch 74/300\n",
            "34/34 [==============================] - 0s 3ms/step - loss: 6641.3745 - mae: 6641.3745\n",
            "Epoch 75/300\n",
            "34/34 [==============================] - 0s 4ms/step - loss: 6595.2104 - mae: 6595.2104\n",
            "Epoch 76/300\n",
            "34/34 [==============================] - 0s 3ms/step - loss: 6548.6270 - mae: 6548.6270\n",
            "Epoch 77/300\n",
            "34/34 [==============================] - 0s 3ms/step - loss: 6499.5581 - mae: 6499.5581\n",
            "Epoch 78/300\n",
            "34/34 [==============================] - 0s 3ms/step - loss: 6450.3423 - mae: 6450.3423\n",
            "Epoch 79/300\n",
            "34/34 [==============================] - 0s 3ms/step - loss: 6398.9595 - mae: 6398.9595\n",
            "Epoch 80/300\n",
            "34/34 [==============================] - 0s 3ms/step - loss: 6348.5527 - mae: 6348.5527\n",
            "Epoch 81/300\n",
            "34/34 [==============================] - 0s 3ms/step - loss: 6292.7388 - mae: 6292.7388\n",
            "Epoch 82/300\n",
            "34/34 [==============================] - 0s 2ms/step - loss: 6238.6670 - mae: 6238.6670\n",
            "Epoch 83/300\n",
            "34/34 [==============================] - 0s 3ms/step - loss: 6181.2539 - mae: 6181.2539\n",
            "Epoch 84/300\n",
            "34/34 [==============================] - 0s 2ms/step - loss: 6122.8169 - mae: 6122.8169\n",
            "Epoch 85/300\n",
            "34/34 [==============================] - 0s 2ms/step - loss: 6061.8843 - mae: 6061.8843\n",
            "Epoch 86/300\n",
            "34/34 [==============================] - 0s 2ms/step - loss: 5999.2480 - mae: 5999.2480\n",
            "Epoch 87/300\n",
            "34/34 [==============================] - 0s 2ms/step - loss: 5935.6577 - mae: 5935.6577\n",
            "Epoch 88/300\n",
            "34/34 [==============================] - 0s 2ms/step - loss: 5869.7671 - mae: 5869.7671\n",
            "Epoch 89/300\n",
            "34/34 [==============================] - 0s 2ms/step - loss: 5802.2295 - mae: 5802.2295\n",
            "Epoch 90/300\n",
            "34/34 [==============================] - 0s 2ms/step - loss: 5733.6030 - mae: 5733.6030\n",
            "Epoch 91/300\n",
            "34/34 [==============================] - 0s 2ms/step - loss: 5662.2231 - mae: 5662.2231\n",
            "Epoch 92/300\n",
            "34/34 [==============================] - 0s 2ms/step - loss: 5589.1597 - mae: 5589.1597\n",
            "Epoch 93/300\n",
            "34/34 [==============================] - 0s 3ms/step - loss: 5516.7822 - mae: 5516.7822\n",
            "Epoch 94/300\n",
            "34/34 [==============================] - 0s 2ms/step - loss: 5443.8252 - mae: 5443.8252\n",
            "Epoch 95/300\n",
            "34/34 [==============================] - 0s 2ms/step - loss: 5368.9448 - mae: 5368.9448\n",
            "Epoch 96/300\n",
            "34/34 [==============================] - 0s 2ms/step - loss: 5290.3506 - mae: 5290.3506\n",
            "Epoch 97/300\n",
            "34/34 [==============================] - 0s 2ms/step - loss: 5212.5610 - mae: 5212.5610\n",
            "Epoch 98/300\n",
            "34/34 [==============================] - 0s 2ms/step - loss: 5133.4131 - mae: 5133.4131\n",
            "Epoch 99/300\n",
            "34/34 [==============================] - 0s 2ms/step - loss: 5054.0762 - mae: 5054.0762\n",
            "Epoch 100/300\n",
            "34/34 [==============================] - 0s 2ms/step - loss: 4970.6289 - mae: 4970.6289\n",
            "Epoch 101/300\n",
            "34/34 [==============================] - 0s 2ms/step - loss: 4886.9727 - mae: 4886.9727\n",
            "Epoch 102/300\n",
            "34/34 [==============================] - 0s 2ms/step - loss: 4803.5273 - mae: 4803.5273\n",
            "Epoch 103/300\n",
            "34/34 [==============================] - 0s 3ms/step - loss: 4720.9121 - mae: 4720.9121\n",
            "Epoch 104/300\n",
            "34/34 [==============================] - 0s 2ms/step - loss: 4641.3604 - mae: 4641.3604\n",
            "Epoch 105/300\n",
            "34/34 [==============================] - 0s 3ms/step - loss: 4560.2661 - mae: 4560.2661\n",
            "Epoch 106/300\n",
            "34/34 [==============================] - 0s 2ms/step - loss: 4483.0815 - mae: 4483.0815\n",
            "Epoch 107/300\n",
            "34/34 [==============================] - 0s 2ms/step - loss: 4410.2217 - mae: 4410.2217\n",
            "Epoch 108/300\n",
            "34/34 [==============================] - 0s 2ms/step - loss: 4342.4185 - mae: 4342.4185\n",
            "Epoch 109/300\n",
            "34/34 [==============================] - 0s 2ms/step - loss: 4274.1577 - mae: 4274.1577\n",
            "Epoch 110/300\n",
            "34/34 [==============================] - 0s 2ms/step - loss: 4208.7065 - mae: 4208.7065\n",
            "Epoch 111/300\n",
            "34/34 [==============================] - 0s 3ms/step - loss: 4148.6714 - mae: 4148.6714\n",
            "Epoch 112/300\n",
            "34/34 [==============================] - 0s 3ms/step - loss: 4090.1921 - mae: 4090.1921\n",
            "Epoch 113/300\n",
            "34/34 [==============================] - 0s 2ms/step - loss: 4037.2061 - mae: 4037.2061\n",
            "Epoch 114/300\n",
            "34/34 [==============================] - 0s 2ms/step - loss: 3985.3237 - mae: 3985.3237\n",
            "Epoch 115/300\n",
            "34/34 [==============================] - 0s 2ms/step - loss: 3939.8855 - mae: 3939.8855\n",
            "Epoch 116/300\n",
            "34/34 [==============================] - 0s 3ms/step - loss: 3897.2078 - mae: 3897.2078\n",
            "Epoch 117/300\n",
            "34/34 [==============================] - 0s 2ms/step - loss: 3860.1318 - mae: 3860.1318\n",
            "Epoch 118/300\n",
            "34/34 [==============================] - 0s 3ms/step - loss: 3827.2959 - mae: 3827.2959\n",
            "Epoch 119/300\n",
            "34/34 [==============================] - 0s 3ms/step - loss: 3798.2227 - mae: 3798.2227\n",
            "Epoch 120/300\n",
            "34/34 [==============================] - 0s 2ms/step - loss: 3772.1006 - mae: 3772.1006\n",
            "Epoch 121/300\n",
            "34/34 [==============================] - 0s 2ms/step - loss: 3751.6919 - mae: 3751.6919\n",
            "Epoch 122/300\n",
            "34/34 [==============================] - 0s 2ms/step - loss: 3734.3423 - mae: 3734.3423\n",
            "Epoch 123/300\n",
            "34/34 [==============================] - 0s 2ms/step - loss: 3721.5049 - mae: 3721.5049\n",
            "Epoch 124/300\n",
            "34/34 [==============================] - 0s 2ms/step - loss: 3709.8494 - mae: 3709.8494\n",
            "Epoch 125/300\n",
            "34/34 [==============================] - 0s 2ms/step - loss: 3701.1626 - mae: 3701.1626\n",
            "Epoch 126/300\n",
            "34/34 [==============================] - 0s 2ms/step - loss: 3694.6907 - mae: 3694.6907\n",
            "Epoch 127/300\n",
            "34/34 [==============================] - 0s 2ms/step - loss: 3687.0620 - mae: 3687.0620\n",
            "Epoch 128/300\n",
            "34/34 [==============================] - 0s 2ms/step - loss: 3682.4326 - mae: 3682.4326\n",
            "Epoch 129/300\n",
            "34/34 [==============================] - 0s 2ms/step - loss: 3677.3716 - mae: 3677.3716\n",
            "Epoch 130/300\n",
            "34/34 [==============================] - 0s 2ms/step - loss: 3673.2952 - mae: 3673.2952\n",
            "Epoch 131/300\n",
            "34/34 [==============================] - 0s 2ms/step - loss: 3669.2363 - mae: 3669.2363\n",
            "Epoch 132/300\n",
            "34/34 [==============================] - 0s 2ms/step - loss: 3665.5662 - mae: 3665.5662\n",
            "Epoch 133/300\n",
            "34/34 [==============================] - 0s 2ms/step - loss: 3661.6677 - mae: 3661.6677\n",
            "Epoch 134/300\n",
            "34/34 [==============================] - 0s 2ms/step - loss: 3658.3142 - mae: 3658.3142\n",
            "Epoch 135/300\n",
            "34/34 [==============================] - 0s 2ms/step - loss: 3656.1243 - mae: 3656.1243\n",
            "Epoch 136/300\n",
            "34/34 [==============================] - 0s 2ms/step - loss: 3652.1316 - mae: 3652.1316\n",
            "Epoch 137/300\n",
            "34/34 [==============================] - 0s 2ms/step - loss: 3649.0693 - mae: 3649.0693\n",
            "Epoch 138/300\n",
            "34/34 [==============================] - 0s 2ms/step - loss: 3645.6768 - mae: 3645.6768\n",
            "Epoch 139/300\n",
            "34/34 [==============================] - 0s 2ms/step - loss: 3641.6890 - mae: 3641.6890\n",
            "Epoch 140/300\n",
            "34/34 [==============================] - 0s 2ms/step - loss: 3639.1992 - mae: 3639.1992\n",
            "Epoch 141/300\n",
            "34/34 [==============================] - 0s 2ms/step - loss: 3636.1599 - mae: 3636.1599\n",
            "Epoch 142/300\n",
            "34/34 [==============================] - 0s 2ms/step - loss: 3631.8923 - mae: 3631.8923\n",
            "Epoch 143/300\n",
            "34/34 [==============================] - 0s 2ms/step - loss: 3628.4470 - mae: 3628.4470\n",
            "Epoch 144/300\n",
            "34/34 [==============================] - 0s 2ms/step - loss: 3625.0347 - mae: 3625.0347\n",
            "Epoch 145/300\n",
            "34/34 [==============================] - 0s 2ms/step - loss: 3621.7246 - mae: 3621.7246\n",
            "Epoch 146/300\n",
            "34/34 [==============================] - 0s 2ms/step - loss: 3619.0459 - mae: 3619.0459\n",
            "Epoch 147/300\n",
            "34/34 [==============================] - 0s 2ms/step - loss: 3614.0642 - mae: 3614.0642\n",
            "Epoch 148/300\n",
            "34/34 [==============================] - 0s 2ms/step - loss: 3611.6475 - mae: 3611.6475\n",
            "Epoch 149/300\n",
            "34/34 [==============================] - 0s 2ms/step - loss: 3607.7227 - mae: 3607.7227\n",
            "Epoch 150/300\n",
            "34/34 [==============================] - 0s 2ms/step - loss: 3605.3074 - mae: 3605.3074\n",
            "Epoch 151/300\n",
            "34/34 [==============================] - 0s 2ms/step - loss: 3603.0100 - mae: 3603.0100\n",
            "Epoch 152/300\n",
            "34/34 [==============================] - 0s 2ms/step - loss: 3599.8892 - mae: 3599.8892\n",
            "Epoch 153/300\n",
            "34/34 [==============================] - 0s 2ms/step - loss: 3597.2568 - mae: 3597.2568\n",
            "Epoch 154/300\n",
            "34/34 [==============================] - 0s 2ms/step - loss: 3596.4192 - mae: 3596.4192\n",
            "Epoch 155/300\n",
            "34/34 [==============================] - 0s 2ms/step - loss: 3594.6863 - mae: 3594.6863\n",
            "Epoch 156/300\n",
            "34/34 [==============================] - 0s 2ms/step - loss: 3590.7808 - mae: 3590.7808\n",
            "Epoch 157/300\n",
            "34/34 [==============================] - 0s 2ms/step - loss: 3588.0007 - mae: 3588.0007\n",
            "Epoch 158/300\n",
            "34/34 [==============================] - 0s 2ms/step - loss: 3586.4041 - mae: 3586.4041\n",
            "Epoch 159/300\n",
            "34/34 [==============================] - 0s 2ms/step - loss: 3583.5654 - mae: 3583.5654\n",
            "Epoch 160/300\n",
            "34/34 [==============================] - 0s 2ms/step - loss: 3581.8269 - mae: 3581.8269\n",
            "Epoch 161/300\n",
            "34/34 [==============================] - 0s 2ms/step - loss: 3579.1943 - mae: 3579.1943\n",
            "Epoch 162/300\n",
            "34/34 [==============================] - 0s 2ms/step - loss: 3576.9194 - mae: 3576.9194\n",
            "Epoch 163/300\n",
            "34/34 [==============================] - 0s 2ms/step - loss: 3575.5056 - mae: 3575.5056\n",
            "Epoch 164/300\n",
            "34/34 [==============================] - 0s 2ms/step - loss: 3573.5686 - mae: 3573.5686\n",
            "Epoch 165/300\n",
            "34/34 [==============================] - 0s 2ms/step - loss: 3570.0947 - mae: 3570.0947\n",
            "Epoch 166/300\n",
            "34/34 [==============================] - 0s 2ms/step - loss: 3571.5923 - mae: 3571.5923\n",
            "Epoch 167/300\n",
            "34/34 [==============================] - 0s 2ms/step - loss: 3566.3015 - mae: 3566.3015\n",
            "Epoch 168/300\n",
            "34/34 [==============================] - 0s 2ms/step - loss: 3564.3635 - mae: 3564.3635\n",
            "Epoch 169/300\n",
            "34/34 [==============================] - 0s 2ms/step - loss: 3561.0364 - mae: 3561.0364\n",
            "Epoch 170/300\n",
            "34/34 [==============================] - 0s 2ms/step - loss: 3558.3032 - mae: 3558.3032\n",
            "Epoch 171/300\n",
            "34/34 [==============================] - 0s 2ms/step - loss: 3554.5896 - mae: 3554.5896\n",
            "Epoch 172/300\n",
            "34/34 [==============================] - 0s 2ms/step - loss: 3552.4417 - mae: 3552.4417\n",
            "Epoch 173/300\n",
            "34/34 [==============================] - 0s 2ms/step - loss: 3549.5154 - mae: 3549.5154\n",
            "Epoch 174/300\n",
            "34/34 [==============================] - 0s 2ms/step - loss: 3546.4875 - mae: 3546.4875\n",
            "Epoch 175/300\n",
            "34/34 [==============================] - 0s 2ms/step - loss: 3542.6736 - mae: 3542.6736\n",
            "Epoch 176/300\n",
            "34/34 [==============================] - 0s 2ms/step - loss: 3540.9607 - mae: 3540.9607\n",
            "Epoch 177/300\n",
            "34/34 [==============================] - 0s 2ms/step - loss: 3536.3767 - mae: 3536.3767\n",
            "Epoch 178/300\n",
            "34/34 [==============================] - 0s 2ms/step - loss: 3533.3179 - mae: 3533.3179\n",
            "Epoch 179/300\n",
            "34/34 [==============================] - 0s 2ms/step - loss: 3531.3306 - mae: 3531.3306\n",
            "Epoch 180/300\n",
            "34/34 [==============================] - 0s 2ms/step - loss: 3527.5752 - mae: 3527.5752\n",
            "Epoch 181/300\n",
            "34/34 [==============================] - 0s 2ms/step - loss: 3524.7302 - mae: 3524.7302\n",
            "Epoch 182/300\n",
            "34/34 [==============================] - 0s 2ms/step - loss: 3521.4377 - mae: 3521.4377\n",
            "Epoch 183/300\n",
            "34/34 [==============================] - 0s 2ms/step - loss: 3517.7886 - mae: 3517.7886\n",
            "Epoch 184/300\n",
            "34/34 [==============================] - 0s 2ms/step - loss: 3514.2473 - mae: 3514.2473\n",
            "Epoch 185/300\n",
            "34/34 [==============================] - 0s 2ms/step - loss: 3511.5024 - mae: 3511.5024\n",
            "Epoch 186/300\n",
            "34/34 [==============================] - 0s 2ms/step - loss: 3508.0684 - mae: 3508.0684\n",
            "Epoch 187/300\n",
            "34/34 [==============================] - 0s 2ms/step - loss: 3505.0598 - mae: 3505.0598\n",
            "Epoch 188/300\n",
            "34/34 [==============================] - 0s 2ms/step - loss: 3501.4985 - mae: 3501.4985\n",
            "Epoch 189/300\n",
            "34/34 [==============================] - 0s 2ms/step - loss: 3497.8154 - mae: 3497.8154\n",
            "Epoch 190/300\n",
            "34/34 [==============================] - 0s 3ms/step - loss: 3495.0466 - mae: 3495.0466\n",
            "Epoch 191/300\n",
            "34/34 [==============================] - 0s 2ms/step - loss: 3490.4292 - mae: 3490.4292\n",
            "Epoch 192/300\n",
            "34/34 [==============================] - 0s 2ms/step - loss: 3487.2173 - mae: 3487.2173\n",
            "Epoch 193/300\n",
            "34/34 [==============================] - 0s 2ms/step - loss: 3484.0950 - mae: 3484.0950\n",
            "Epoch 194/300\n",
            "34/34 [==============================] - 0s 2ms/step - loss: 3481.4841 - mae: 3481.4841\n",
            "Epoch 195/300\n",
            "34/34 [==============================] - 0s 2ms/step - loss: 3476.7864 - mae: 3476.7864\n",
            "Epoch 196/300\n",
            "34/34 [==============================] - 0s 2ms/step - loss: 3472.9163 - mae: 3472.9163\n",
            "Epoch 197/300\n",
            "34/34 [==============================] - 0s 2ms/step - loss: 3469.3430 - mae: 3469.3430\n",
            "Epoch 198/300\n",
            "34/34 [==============================] - 0s 2ms/step - loss: 3468.0320 - mae: 3468.0320\n",
            "Epoch 199/300\n",
            "34/34 [==============================] - 0s 2ms/step - loss: 3462.6257 - mae: 3462.6257\n",
            "Epoch 200/300\n",
            "34/34 [==============================] - 0s 2ms/step - loss: 3459.2202 - mae: 3459.2202\n",
            "Epoch 201/300\n",
            "34/34 [==============================] - 0s 4ms/step - loss: 3456.8281 - mae: 3456.8281\n",
            "Epoch 202/300\n",
            "34/34 [==============================] - 0s 3ms/step - loss: 3453.9961 - mae: 3453.9961\n",
            "Epoch 203/300\n",
            "34/34 [==============================] - 0s 3ms/step - loss: 3451.5925 - mae: 3451.5925\n",
            "Epoch 204/300\n",
            "34/34 [==============================] - 0s 3ms/step - loss: 3448.8110 - mae: 3448.8110\n",
            "Epoch 205/300\n",
            "34/34 [==============================] - 0s 3ms/step - loss: 3445.5232 - mae: 3445.5232\n",
            "Epoch 206/300\n",
            "34/34 [==============================] - 0s 3ms/step - loss: 3440.6602 - mae: 3440.6602\n",
            "Epoch 207/300\n",
            "34/34 [==============================] - 0s 3ms/step - loss: 3438.8787 - mae: 3438.8789\n",
            "Epoch 208/300\n",
            "34/34 [==============================] - 0s 3ms/step - loss: 3436.5315 - mae: 3436.5315\n",
            "Epoch 209/300\n",
            "34/34 [==============================] - 0s 3ms/step - loss: 3432.2480 - mae: 3432.2480\n",
            "Epoch 210/300\n",
            "34/34 [==============================] - 0s 3ms/step - loss: 3429.9993 - mae: 3429.9993\n",
            "Epoch 211/300\n",
            "34/34 [==============================] - 0s 4ms/step - loss: 3427.0408 - mae: 3427.0408\n",
            "Epoch 212/300\n",
            "34/34 [==============================] - 0s 3ms/step - loss: 3424.2554 - mae: 3424.2554\n",
            "Epoch 213/300\n",
            "34/34 [==============================] - 0s 3ms/step - loss: 3421.6467 - mae: 3421.6467\n",
            "Epoch 214/300\n",
            "34/34 [==============================] - 0s 3ms/step - loss: 3420.3999 - mae: 3420.3999\n",
            "Epoch 215/300\n",
            "34/34 [==============================] - 0s 3ms/step - loss: 3418.7446 - mae: 3418.7446\n",
            "Epoch 216/300\n",
            "34/34 [==============================] - 0s 4ms/step - loss: 3414.6123 - mae: 3414.6123\n",
            "Epoch 217/300\n",
            "34/34 [==============================] - 0s 3ms/step - loss: 3412.9463 - mae: 3412.9463\n",
            "Epoch 218/300\n",
            "34/34 [==============================] - 0s 3ms/step - loss: 3410.3970 - mae: 3410.3970\n",
            "Epoch 219/300\n",
            "34/34 [==============================] - 0s 3ms/step - loss: 3407.2363 - mae: 3407.2363\n",
            "Epoch 220/300\n",
            "34/34 [==============================] - 0s 3ms/step - loss: 3405.3071 - mae: 3405.3071\n",
            "Epoch 221/300\n",
            "34/34 [==============================] - 0s 3ms/step - loss: 3406.1406 - mae: 3406.1406\n",
            "Epoch 222/300\n",
            "34/34 [==============================] - 0s 3ms/step - loss: 3403.0845 - mae: 3403.0845\n",
            "Epoch 223/300\n",
            "34/34 [==============================] - 0s 3ms/step - loss: 3398.2009 - mae: 3398.2009\n",
            "Epoch 224/300\n",
            "34/34 [==============================] - 0s 3ms/step - loss: 3396.6514 - mae: 3396.6514\n",
            "Epoch 225/300\n",
            "34/34 [==============================] - 0s 3ms/step - loss: 3393.9766 - mae: 3393.9766\n",
            "Epoch 226/300\n",
            "34/34 [==============================] - 0s 3ms/step - loss: 3393.3132 - mae: 3393.3132\n",
            "Epoch 227/300\n",
            "34/34 [==============================] - 0s 3ms/step - loss: 3389.9382 - mae: 3389.9382\n",
            "Epoch 228/300\n",
            "34/34 [==============================] - 0s 2ms/step - loss: 3387.3359 - mae: 3387.3359\n",
            "Epoch 229/300\n",
            "34/34 [==============================] - 0s 3ms/step - loss: 3386.1785 - mae: 3386.1785\n",
            "Epoch 230/300\n",
            "34/34 [==============================] - 0s 4ms/step - loss: 3383.5879 - mae: 3383.5879\n",
            "Epoch 231/300\n",
            "34/34 [==============================] - 0s 3ms/step - loss: 3381.9614 - mae: 3381.9614\n",
            "Epoch 232/300\n",
            "34/34 [==============================] - 0s 3ms/step - loss: 3380.8184 - mae: 3380.8184\n",
            "Epoch 233/300\n",
            "34/34 [==============================] - 0s 4ms/step - loss: 3377.2751 - mae: 3377.2751\n",
            "Epoch 234/300\n",
            "34/34 [==============================] - 0s 3ms/step - loss: 3376.2112 - mae: 3376.2112\n",
            "Epoch 235/300\n",
            "34/34 [==============================] - 0s 3ms/step - loss: 3374.5771 - mae: 3374.5771\n",
            "Epoch 236/300\n",
            "34/34 [==============================] - 0s 2ms/step - loss: 3372.3806 - mae: 3372.3806\n",
            "Epoch 237/300\n",
            "34/34 [==============================] - 0s 2ms/step - loss: 3371.9414 - mae: 3371.9414\n",
            "Epoch 238/300\n",
            "34/34 [==============================] - 0s 2ms/step - loss: 3368.9893 - mae: 3368.9893\n",
            "Epoch 239/300\n",
            "34/34 [==============================] - 0s 2ms/step - loss: 3366.4231 - mae: 3366.4231\n",
            "Epoch 240/300\n",
            "34/34 [==============================] - 0s 2ms/step - loss: 3364.4392 - mae: 3364.4392\n",
            "Epoch 241/300\n",
            "34/34 [==============================] - 0s 2ms/step - loss: 3362.5061 - mae: 3362.5061\n",
            "Epoch 242/300\n",
            "34/34 [==============================] - 0s 2ms/step - loss: 3360.8577 - mae: 3360.8577\n",
            "Epoch 243/300\n",
            "34/34 [==============================] - 0s 2ms/step - loss: 3357.8291 - mae: 3357.8291\n",
            "Epoch 244/300\n",
            "34/34 [==============================] - 0s 2ms/step - loss: 3356.4797 - mae: 3356.4797\n",
            "Epoch 245/300\n",
            "34/34 [==============================] - 0s 2ms/step - loss: 3354.9312 - mae: 3354.9312\n",
            "Epoch 246/300\n",
            "34/34 [==============================] - 0s 2ms/step - loss: 3353.7058 - mae: 3353.7058\n",
            "Epoch 247/300\n",
            "34/34 [==============================] - 0s 2ms/step - loss: 3350.7888 - mae: 3350.7888\n",
            "Epoch 248/300\n",
            "34/34 [==============================] - 0s 2ms/step - loss: 3349.0925 - mae: 3349.0925\n",
            "Epoch 249/300\n",
            "34/34 [==============================] - 0s 2ms/step - loss: 3346.5698 - mae: 3346.5698\n",
            "Epoch 250/300\n",
            "34/34 [==============================] - 0s 2ms/step - loss: 3348.5344 - mae: 3348.5344\n",
            "Epoch 251/300\n",
            "34/34 [==============================] - 0s 2ms/step - loss: 3342.4170 - mae: 3342.4170\n",
            "Epoch 252/300\n",
            "34/34 [==============================] - 0s 2ms/step - loss: 3341.0916 - mae: 3341.0916\n",
            "Epoch 253/300\n",
            "34/34 [==============================] - 0s 2ms/step - loss: 3339.3716 - mae: 3339.3716\n",
            "Epoch 254/300\n",
            "34/34 [==============================] - 0s 2ms/step - loss: 3337.5725 - mae: 3337.5725\n",
            "Epoch 255/300\n",
            "34/34 [==============================] - 0s 2ms/step - loss: 3335.8643 - mae: 3335.8643\n",
            "Epoch 256/300\n",
            "34/34 [==============================] - 0s 2ms/step - loss: 3334.5630 - mae: 3334.5630\n",
            "Epoch 257/300\n",
            "34/34 [==============================] - 0s 3ms/step - loss: 3334.9309 - mae: 3334.9309\n",
            "Epoch 258/300\n",
            "34/34 [==============================] - 0s 2ms/step - loss: 3330.9543 - mae: 3330.9543\n",
            "Epoch 259/300\n",
            "34/34 [==============================] - 0s 2ms/step - loss: 3329.1555 - mae: 3329.1555\n",
            "Epoch 260/300\n",
            "34/34 [==============================] - 0s 2ms/step - loss: 3327.4680 - mae: 3327.4680\n",
            "Epoch 261/300\n",
            "34/34 [==============================] - 0s 2ms/step - loss: 3325.3677 - mae: 3325.3677\n",
            "Epoch 262/300\n",
            "34/34 [==============================] - 0s 2ms/step - loss: 3322.3940 - mae: 3322.3940\n",
            "Epoch 263/300\n",
            "34/34 [==============================] - 0s 2ms/step - loss: 3322.4663 - mae: 3322.4663\n",
            "Epoch 264/300\n",
            "34/34 [==============================] - 0s 2ms/step - loss: 3319.0950 - mae: 3319.0950\n",
            "Epoch 265/300\n",
            "34/34 [==============================] - 0s 3ms/step - loss: 3316.6130 - mae: 3316.6130\n",
            "Epoch 266/300\n",
            "34/34 [==============================] - 0s 3ms/step - loss: 3316.2766 - mae: 3316.2766\n",
            "Epoch 267/300\n",
            "34/34 [==============================] - 0s 2ms/step - loss: 3315.4167 - mae: 3315.4167\n",
            "Epoch 268/300\n",
            "34/34 [==============================] - 0s 2ms/step - loss: 3312.6995 - mae: 3312.6995\n",
            "Epoch 269/300\n",
            "34/34 [==============================] - 0s 2ms/step - loss: 3309.5376 - mae: 3309.5376\n",
            "Epoch 270/300\n",
            "34/34 [==============================] - 0s 2ms/step - loss: 3309.2769 - mae: 3309.2769\n",
            "Epoch 271/300\n",
            "34/34 [==============================] - 0s 2ms/step - loss: 3305.1904 - mae: 3305.1904\n",
            "Epoch 272/300\n",
            "34/34 [==============================] - 0s 2ms/step - loss: 3305.8594 - mae: 3305.8594\n",
            "Epoch 273/300\n",
            "34/34 [==============================] - 0s 2ms/step - loss: 3304.5613 - mae: 3304.5613\n",
            "Epoch 274/300\n",
            "34/34 [==============================] - 0s 3ms/step - loss: 3304.4043 - mae: 3304.4043\n",
            "Epoch 275/300\n",
            "34/34 [==============================] - 0s 2ms/step - loss: 3300.5334 - mae: 3300.5334\n",
            "Epoch 276/300\n",
            "34/34 [==============================] - 0s 2ms/step - loss: 3299.1980 - mae: 3299.1980\n",
            "Epoch 277/300\n",
            "34/34 [==============================] - 0s 3ms/step - loss: 3298.9502 - mae: 3298.9502\n",
            "Epoch 278/300\n",
            "34/34 [==============================] - 0s 2ms/step - loss: 3298.5569 - mae: 3298.5569\n",
            "Epoch 279/300\n",
            "34/34 [==============================] - 0s 2ms/step - loss: 3297.0652 - mae: 3297.0652\n",
            "Epoch 280/300\n",
            "34/34 [==============================] - 0s 3ms/step - loss: 3294.9602 - mae: 3294.9602\n",
            "Epoch 281/300\n",
            "34/34 [==============================] - 0s 3ms/step - loss: 3294.8472 - mae: 3294.8472\n",
            "Epoch 282/300\n",
            "34/34 [==============================] - 0s 2ms/step - loss: 3293.5996 - mae: 3293.5996\n",
            "Epoch 283/300\n",
            "34/34 [==============================] - 0s 2ms/step - loss: 3294.1077 - mae: 3294.1077\n",
            "Epoch 284/300\n",
            "34/34 [==============================] - 0s 2ms/step - loss: 3291.2930 - mae: 3291.2930\n",
            "Epoch 285/300\n",
            "34/34 [==============================] - 0s 3ms/step - loss: 3290.7236 - mae: 3290.7236\n",
            "Epoch 286/300\n",
            "34/34 [==============================] - 0s 2ms/step - loss: 3290.0730 - mae: 3290.0730\n",
            "Epoch 287/300\n",
            "34/34 [==============================] - 0s 2ms/step - loss: 3289.7136 - mae: 3289.7136\n",
            "Epoch 288/300\n",
            "34/34 [==============================] - 0s 3ms/step - loss: 3289.7981 - mae: 3289.7981\n",
            "Epoch 289/300\n",
            "34/34 [==============================] - 0s 2ms/step - loss: 3287.3220 - mae: 3287.3220\n",
            "Epoch 290/300\n",
            "34/34 [==============================] - 0s 2ms/step - loss: 3289.1130 - mae: 3289.1130\n",
            "Epoch 291/300\n",
            "34/34 [==============================] - 0s 3ms/step - loss: 3286.3069 - mae: 3286.3069\n",
            "Epoch 292/300\n",
            "34/34 [==============================] - 0s 3ms/step - loss: 3286.0452 - mae: 3286.0452\n",
            "Epoch 293/300\n",
            "34/34 [==============================] - 0s 2ms/step - loss: 3283.9717 - mae: 3283.9717\n",
            "Epoch 294/300\n",
            "34/34 [==============================] - 0s 3ms/step - loss: 3284.4141 - mae: 3284.4141\n",
            "Epoch 295/300\n",
            "34/34 [==============================] - 0s 3ms/step - loss: 3282.9065 - mae: 3282.9065\n",
            "Epoch 296/300\n",
            "34/34 [==============================] - 0s 2ms/step - loss: 3283.3274 - mae: 3283.3274\n",
            "Epoch 297/300\n",
            "34/34 [==============================] - 0s 2ms/step - loss: 3280.6877 - mae: 3280.6877\n",
            "Epoch 298/300\n",
            "34/34 [==============================] - 0s 3ms/step - loss: 3280.0544 - mae: 3280.0544\n",
            "Epoch 299/300\n",
            "34/34 [==============================] - 0s 3ms/step - loss: 3282.0293 - mae: 3282.0293\n",
            "Epoch 300/300\n",
            "34/34 [==============================] - 0s 2ms/step - loss: 3278.5637 - mae: 3278.5637\n"
          ]
        }
      ]
    },
    {
      "cell_type": "code",
      "source": [
        "# Plot the history\n",
        "pd.DataFrame(history.history).plot()\n",
        "plt.xlabel(\"epoch\")\n",
        "plt.ylabel(\"loss\")"
      ],
      "metadata": {
        "colab": {
          "base_uri": "https://localhost:8080/",
          "height": 296
        },
        "id": "pHwta2iTXGWd",
        "outputId": "f27f60b9-a03c-4877-d888-7a3ebed308f2"
      },
      "execution_count": null,
      "outputs": [
        {
          "output_type": "execute_result",
          "data": {
            "text/plain": [
              "Text(0, 0.5, 'loss')"
            ]
          },
          "metadata": {},
          "execution_count": 173
        },
        {
          "output_type": "display_data",
          "data": {
            "text/plain": [
              "<Figure size 432x288 with 1 Axes>"
            ],
            "image/png": "[encoded data removed]"
          },
          "metadata": {
            "needs_background": "light"
          }
        }
      ]
    },
    {
      "cell_type": "code",
      "source": [
        "# Evalualate the model\n"
      ],
      "metadata": {
        "id": "khsgutupXY_t"
      },
      "execution_count": null,
      "outputs": []
    },
    {
      "cell_type": "code",
      "source": [
        "# Split data into train test split\n",
        "from sklearn.model_selection import train_test_split\n",
        "X_train, X_test, y_train, y_test = train_test_split(X, y, test_size=0.33, random_state=42)"
      ],
      "metadata": {
        "id": "9luim1fqHaOi"
      },
      "execution_count": null,
      "outputs": []
    },
    {
      "cell_type": "code",
      "source": [
        "# Creating tensors\n",
        "X_tf = tf.constant(X)\n",
        "y = tf.constant(y)"
      ],
      "metadata": {
        "id": "oBVgrAgoHiVv"
      },
      "execution_count": null,
      "outputs": []
    },
    {
      "cell_type": "code",
      "source": [
        "# Create the model\n",
        "model = tf.keras.Sequential([\n",
        "    tf.keras.layers.Dense(100, input_shape = [11], activation = \"relu\"),\n",
        "    tf.keras.layers.Dense(10),\n",
        "    tf.keras.layers.Dense(1)\n",
        "])\n",
        "\n",
        "# Complite the model\n",
        "model.compile(loss=\"MAE\",\n",
        "              optimizer = tf.keras.optimizers.Adam(),\n",
        "              metrics = [\"mae\"])\n"
      ],
      "metadata": {
        "id": "3Y9V2vsz-g4p"
      },
      "execution_count": null,
      "outputs": []
    },
    {
      "cell_type": "code",
      "source": [
        "history = model.fit(X_train, y_train, epochs = 100, verbose = 0)"
      ],
      "metadata": {
        "id": "JHUq6xwl_KMm"
      },
      "execution_count": null,
      "outputs": []
    },
    {
      "cell_type": "code",
      "source": [
        "pd.DataFrame(history.history).plot()\n",
        "plt.xlabel(\"epochs\")\n",
        "plt.ylabel(\"loss\")"
      ],
      "metadata": {
        "colab": {
          "base_uri": "https://localhost:8080/",
          "height": 296
        },
        "id": "_nYdr3GtKZyI",
        "outputId": "6987c067-44ef-4bf1-f391-ebac486345c1"
      },
      "execution_count": null,
      "outputs": [
        {
          "output_type": "execute_result",
          "data": {
            "text/plain": [
              "Text(0, 0.5, 'loss')"
            ]
          },
          "metadata": {},
          "execution_count": 142
        },
        {
          "output_type": "display_data",
          "data": {
            "text/plain": [
              "<Figure size 432x288 with 1 Axes>"
            ],
            "image/png": "[encoded data removed]"
          },
          "metadata": {
            "needs_background": "light"
          }
        }
      ]
    },
    {
      "cell_type": "code",
      "source": [
        "# Checking the predictions\n",
        "y_pred = model.predict(X_test)"
      ],
      "metadata": {
        "colab": {
          "base_uri": "https://localhost:8080/"
        },
        "id": "fnw3sdAo_SOo",
        "outputId": "6e8b13a6-58cc-405a-97e4-fcfc910fa3f3"
      },
      "execution_count": null,
      "outputs": [
        {
          "output_type": "stream",
          "name": "stdout",
          "text": [
            "14/14 [==============================] - 0s 2ms/step\n"
          ]
        }
      ]
    },
    {
      "cell_type": "code",
      "source": [
        "# Checking the predictions\n",
        "y_pred = model.predict(X_test)\n",
        "# Visualizing the model results\n",
        "plt.scatter(y_test, y_pred)\n",
        "\n",
        "model.evaluate(X_test, y_test)"
      ],
      "metadata": {
        "colab": {
          "base_uri": "https://localhost:8080/",
          "height": 317
        },
        "id": "Vf6w6bNe_j_f",
        "outputId": "f7c845d1-a380-4580-9cfe-af87fedbd636"
      },
      "execution_count": null,
      "outputs": [
        {
          "output_type": "stream",
          "name": "stdout",
          "text": [
            "14/14 [==============================] - 0s 2ms/step\n",
            "14/14 [==============================] - 0s 2ms/step - loss: 0.1414 - mae: 0.1414\n"
          ]
        },
        {
          "output_type": "execute_result",
          "data": {
            "text/plain": [
              "[0.1413615345954895, 0.1413615345954895]"
            ]
          },
          "metadata": {},
          "execution_count": 144
        },
        {
          "output_type": "display_data",
          "data": {
            "text/plain": [
              "<Figure size 432x288 with 1 Axes>"
            ],
            "image/png": "[encoded data removed]"
          },
          "metadata": {
            "needs_background": "light"
          }
        }
      ]
    },
    {
      "cell_type": "markdown",
      "source": [
        "## Optimizing the model\n",
        "\n",
        "1. Increasing the numbers of layers 3\n",
        "2. Increasing the epochs 500\n",
        "3. Change the loss function to MSE"
      ],
      "metadata": {
        "id": "0md_GnlG_1Eu"
      }
    },
    {
      "cell_type": "code",
      "source": [
        "# Creating a model with increased depth\n",
        "model_1 = tf.keras.Sequential([\n",
        "    tf.keras.layers.Dense(100, input_shape=[11], activation=\"relu\"),\n",
        "    tf.keras.layers.Dense(100, activation=\"relu\"),\n",
        "    tf.keras.layers.Dense(1),\n",
        "])\n",
        "\n",
        "# Compliling the model\n",
        "model_1.compile(loss=\"MSE\",\n",
        "                optimizer=tf.keras.optimizers.Adam(),\n",
        "                metrics = [\"mse\"]\n",
        "                )\n",
        "\n"
      ],
      "metadata": {
        "id": "-L1_HzgKAiEA"
      },
      "execution_count": null,
      "outputs": []
    },
    {
      "cell_type": "code",
      "source": [
        "# Fitting model\n",
        "callback = tf.keras.callbacks.EarlyStopping(monitor='loss', patience=20)\n",
        "history = model_1.fit(X_train, y_train, epochs = 200, verbose=0, callbacks = [callback])\n"
      ],
      "metadata": {
        "id": "-xgKZnL5Baze"
      },
      "execution_count": null,
      "outputs": []
    },
    {
      "cell_type": "code",
      "source": [
        "pd.DataFrame(history.history).plot()\n",
        "plt.xlabel(\"epochs\")\n",
        "plt.ylabel(\"loss\")"
      ],
      "metadata": {
        "colab": {
          "base_uri": "https://localhost:8080/",
          "height": 296
        },
        "id": "y2KwIC63K5dq",
        "outputId": "6028d45c-d253-45ec-8b4c-ec024aa317fa"
      },
      "execution_count": null,
      "outputs": [
        {
          "output_type": "execute_result",
          "data": {
            "text/plain": [
              "Text(0, 0.5, 'loss')"
            ]
          },
          "metadata": {},
          "execution_count": 157
        },
        {
          "output_type": "display_data",
          "data": {
            "text/plain": [
              "<Figure size 432x288 with 1 Axes>"
            ],
            "image/png": "[encoded data removed]"
          },
          "metadata": {
            "needs_background": "light"
          }
        }
      ]
    },
    {
      "cell_type": "code",
      "source": [
        "# Checking the predictions\n",
        "y_pred = model_1.predict(X_test)\n",
        "# Visualizing the model results\n",
        "plt.scatter(y_test, y_pred)\n",
        "\n",
        "model_1.evaluate(X_test, y_test)"
      ],
      "metadata": {
        "colab": {
          "base_uri": "https://localhost:8080/",
          "height": 317
        },
        "id": "GM_H4d8gBikm",
        "outputId": "94fca4d5-29db-43a5-ac36-7e8bcb728f35"
      },
      "execution_count": null,
      "outputs": [
        {
          "output_type": "stream",
          "name": "stdout",
          "text": [
            "14/14 [==============================] - 0s 2ms/step\n",
            "14/14 [==============================] - 0s 2ms/step - loss: 0.1983 - mse: 0.1983\n"
          ]
        },
        {
          "output_type": "execute_result",
          "data": {
            "text/plain": [
              "[0.1983434110879898, 0.1983434110879898]"
            ]
          },
          "metadata": {},
          "execution_count": 130
        },
        {
          "output_type": "display_data",
          "data": {
            "text/plain": [
              "<Figure size 432x288 with 1 Axes>"
            ],
            "image/png": "[encoded data removed]"
          },
          "metadata": {
            "needs_background": "light"
          }
        }
      ]
    },
    {
      "cell_type": "code",
      "source": [],
      "metadata": {
        "id": "Xh26OGxgCWPd"
      },
      "execution_count": null,
      "outputs": []
    }
  ]
}